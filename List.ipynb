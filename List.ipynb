{
  "nbformat": 4,
  "nbformat_minor": 0,
  "metadata": {
    "colab": {
      "provenance": [],
      "authorship_tag": "ABX9TyODcdu7A/tWvMsmM+4TMV9R"
    },
    "kernelspec": {
      "name": "python3",
      "display_name": "Python 3"
    },
    "language_info": {
      "name": "python"
    }
  },
  "cells": [
    {
      "cell_type": "markdown",
      "source": [
        "# `LIST`\n",
        "> `List` adalah sebuah koleksi yang terurut dan dapat diganti atau dapat diubah isinya (mutable)\n",
        "\n",
        "Karakteristik dari List\n",
        "* `List` memeiliki nilai yang terurut dan dapat diidentifikasi dengan index\n",
        "* `List` bisa menampung beberapa elemen yang sama\n",
        "* `List` bisa menampung berbagai macam tipe data\n",
        "* `List` bisa menampung `List` didalamnya (Nested list)\n",
        "\n",
        "\n"
      ],
      "metadata": {
        "id": "zYC7MAxlAt7h"
      }
    },
    {
      "cell_type": "markdown",
      "source": [
        "## **Membuat List**\n",
        "\n",
        "List dapat dibuat dengan menyimpan nilai dalam variabel dengan tanda kurung siku `[ ]`"
      ],
      "metadata": {
        "id": "i3N_v82_CUTE"
      }
    },
    {
      "cell_type": "code",
      "source": [
        "# Membuat List\n",
        "contoh_list = [\"Apel\", \"Nama\", False, True, 1, 8.5]"
      ],
      "metadata": {
        "id": "J7tSBaelAtpb"
      },
      "execution_count": 1,
      "outputs": []
    },
    {
      "cell_type": "code",
      "source": [
        "# Print List\n",
        "print(contoh_list)"
      ],
      "metadata": {
        "colab": {
          "base_uri": "https://localhost:8080/"
        },
        "id": "5SsomgXFCyO5",
        "outputId": "dc43e432-c245-4782-95fd-1a94c8dbfcd3"
      },
      "execution_count": 2,
      "outputs": [
        {
          "output_type": "stream",
          "name": "stdout",
          "text": [
            "['Apel', 'Nama', False, True, 1, 8.5]\n"
          ]
        }
      ]
    },
    {
      "cell_type": "code",
      "source": [
        "# Membuat List\n",
        "contoh_list_2 = [True, False, 'Makanan', 8.4]"
      ],
      "metadata": {
        "id": "hDuXfrK8C6-7"
      },
      "execution_count": 3,
      "outputs": []
    },
    {
      "cell_type": "code",
      "source": [
        "# Print List\n",
        "print(contoh_list_2)"
      ],
      "metadata": {
        "colab": {
          "base_uri": "https://localhost:8080/"
        },
        "id": "acCP_tY0DEZC",
        "outputId": "27258fa7-f700-4990-b527-6ffaba97d0a7"
      },
      "execution_count": 4,
      "outputs": [
        {
          "output_type": "stream",
          "name": "stdout",
          "text": [
            "[True, False, 'Makanan', 8.4]\n"
          ]
        }
      ]
    },
    {
      "cell_type": "code",
      "source": [
        "# Membuat List didalam List (Nested List)\n",
        "nested_list = [[\"Apel\", \"Nama\", False, 1], [True, False, True]]"
      ],
      "metadata": {
        "id": "3w6uPz7jDJq0"
      },
      "execution_count": 5,
      "outputs": []
    },
    {
      "cell_type": "code",
      "source": [
        "# Print Nested List\n",
        "print(nested_list)"
      ],
      "metadata": {
        "colab": {
          "base_uri": "https://localhost:8080/"
        },
        "id": "B0YweiY-Dali",
        "outputId": "4aab5363-c85e-4984-c0f6-6b7284f7328c"
      },
      "execution_count": 6,
      "outputs": [
        {
          "output_type": "stream",
          "name": "stdout",
          "text": [
            "[['Apel', 'Nama', False, 1], [True, False, True]]\n"
          ]
        }
      ]
    },
    {
      "cell_type": "code",
      "source": [
        "my_list = list(\"Hallo\") # Method list() hanya dapat menampung sebuah String dan membagi menjadi karakter dan dimuat kedalam list"
      ],
      "metadata": {
        "id": "XIwFEFbuV8VT"
      },
      "execution_count": 83,
      "outputs": []
    },
    {
      "cell_type": "code",
      "source": [
        "print(my_list)"
      ],
      "metadata": {
        "colab": {
          "base_uri": "https://localhost:8080/"
        },
        "id": "Eyus3_EXWkS8",
        "outputId": "5e04a627-4604-47e0-d05e-0c2ce9098525"
      },
      "execution_count": 84,
      "outputs": [
        {
          "output_type": "stream",
          "name": "stdout",
          "text": [
            "['H', 'a', 'l', 'l', 'o']\n"
          ]
        }
      ]
    },
    {
      "cell_type": "code",
      "source": [
        "my_list_2 = [i for i in range(1, 6)]  # Membuat list [1, 2, 3, 4, 5]"
      ],
      "metadata": {
        "id": "v5CkbleyWz2p"
      },
      "execution_count": 87,
      "outputs": []
    },
    {
      "cell_type": "code",
      "source": [
        "print(my_list_2)"
      ],
      "metadata": {
        "colab": {
          "base_uri": "https://localhost:8080/"
        },
        "id": "gnL_TLMLW6H1",
        "outputId": "04873b27-2c6b-47b2-f88d-71fb4cb70ffd"
      },
      "execution_count": 88,
      "outputs": [
        {
          "output_type": "stream",
          "name": "stdout",
          "text": [
            "[1, 2, 3, 4, 5]\n"
          ]
        }
      ]
    },
    {
      "cell_type": "code",
      "source": [
        "my_list_3 = list(range(1, 6))  # Membuat list [1, 2, 3, 4, 5]"
      ],
      "metadata": {
        "id": "4auHm4vtXCdO"
      },
      "execution_count": 89,
      "outputs": []
    },
    {
      "cell_type": "code",
      "source": [
        "print(my_list_3)"
      ],
      "metadata": {
        "colab": {
          "base_uri": "https://localhost:8080/"
        },
        "id": "fzPF2x_GXEcB",
        "outputId": "012e3ec0-cc2b-4f7d-d8b2-35f391b6c8f1"
      },
      "execution_count": 90,
      "outputs": [
        {
          "output_type": "stream",
          "name": "stdout",
          "text": [
            "[1, 2, 3, 4, 5]\n"
          ]
        }
      ]
    },
    {
      "cell_type": "markdown",
      "source": [
        "## **Mengakses List**\n",
        "Kita bisa mengakses list dengan menggunakan indeks, kita akan mengakses list yang telah kita buat sebelumnya yaitu :\n",
        "\n",
        "`contoh_list`, `contoh_list_2`, `nested_list`"
      ],
      "metadata": {
        "id": "e7F60K1aDezp"
      }
    },
    {
      "cell_type": "code",
      "source": [
        "# Mengakses elemen pada list `contoh_list`\n",
        "contoh_list[0] # Indeks 0 digunakan untuk mengakses elemen pertama"
      ],
      "metadata": {
        "colab": {
          "base_uri": "https://localhost:8080/",
          "height": 35
        },
        "id": "dHoptmV0Dmk1",
        "outputId": "cf3d7799-1959-40a7-cd34-e9564b37b4b1"
      },
      "execution_count": 7,
      "outputs": [
        {
          "output_type": "execute_result",
          "data": {
            "text/plain": [
              "'Apel'"
            ],
            "application/vnd.google.colaboratory.intrinsic+json": {
              "type": "string"
            }
          },
          "metadata": {},
          "execution_count": 7
        }
      ]
    },
    {
      "cell_type": "code",
      "source": [
        "contoh_list_2[1] # Indeks [1] digunakan untuk mengakses elemen kedua"
      ],
      "metadata": {
        "colab": {
          "base_uri": "https://localhost:8080/"
        },
        "id": "JD9rN5G5EF7C",
        "outputId": "d056b9eb-867a-47cb-d6eb-3b20c3ce2888"
      },
      "execution_count": 8,
      "outputs": [
        {
          "output_type": "execute_result",
          "data": {
            "text/plain": [
              "False"
            ]
          },
          "metadata": {},
          "execution_count": 8
        }
      ]
    },
    {
      "cell_type": "code",
      "source": [
        "nested_list[1] # Karena ini adalah List didalam List maka indeks [1] merupakan sebuah list"
      ],
      "metadata": {
        "colab": {
          "base_uri": "https://localhost:8080/"
        },
        "id": "1XnsjrYOEOZO",
        "outputId": "9cee165b-648c-4f06-9c23-4902976cd2f6"
      },
      "execution_count": 9,
      "outputs": [
        {
          "output_type": "execute_result",
          "data": {
            "text/plain": [
              "[True, False, True]"
            ]
          },
          "metadata": {},
          "execution_count": 9
        }
      ]
    },
    {
      "cell_type": "code",
      "source": [
        "# Mengakses beberapa elemen pada list `contoh_list`\n",
        "contoh_list[0:2] # Indeks [0:2] digunakan untuk mengakses elemen pada indeks 1 sampai 2"
      ],
      "metadata": {
        "colab": {
          "base_uri": "https://localhost:8080/"
        },
        "id": "YHLhrYT4EcAE",
        "outputId": "d938be3f-0e5f-437c-8ed5-5ecb2adeba5c"
      },
      "execution_count": 10,
      "outputs": [
        {
          "output_type": "execute_result",
          "data": {
            "text/plain": [
              "['Apel', 'Nama']"
            ]
          },
          "metadata": {},
          "execution_count": 10
        }
      ]
    },
    {
      "cell_type": "code",
      "source": [
        "# Alternatif jika ingin mengakses dari elemen pertama\n",
        "contoh_list[:2] # Maka hasilnya akan sama dengan indeks [0:2]"
      ],
      "metadata": {
        "colab": {
          "base_uri": "https://localhost:8080/"
        },
        "id": "-ysq0351E75Y",
        "outputId": "e4362222-1209-4cf2-89d7-0108eac2cf9a"
      },
      "execution_count": 11,
      "outputs": [
        {
          "output_type": "execute_result",
          "data": {
            "text/plain": [
              "['Apel', 'Nama']"
            ]
          },
          "metadata": {},
          "execution_count": 11
        }
      ]
    },
    {
      "cell_type": "code",
      "source": [
        "contoh_list_2[-4:-1] # Indeks -4:-1 digunakan untuk mengakses elemen pada indeks 4 terakhir dan indeks terakhir"
      ],
      "metadata": {
        "colab": {
          "base_uri": "https://localhost:8080/"
        },
        "id": "B6TYQadiElEy",
        "outputId": "9077de74-b404-4d57-9e4d-007ce2d446fc"
      },
      "execution_count": 12,
      "outputs": [
        {
          "output_type": "execute_result",
          "data": {
            "text/plain": [
              "[True, False, 'Makanan']"
            ]
          },
          "metadata": {},
          "execution_count": 12
        }
      ]
    },
    {
      "cell_type": "code",
      "source": [
        "# Mengakses elemen dari 2 hingga akhir\n",
        "contoh_list_2[1:]"
      ],
      "metadata": {
        "colab": {
          "base_uri": "https://localhost:8080/"
        },
        "id": "6vPq4lm0E59v",
        "outputId": "1cb91e31-563f-4770-c00d-9edadc0ed087"
      },
      "execution_count": 13,
      "outputs": [
        {
          "output_type": "execute_result",
          "data": {
            "text/plain": [
              "[False, 'Makanan', 8.4]"
            ]
          },
          "metadata": {},
          "execution_count": 13
        }
      ]
    },
    {
      "cell_type": "code",
      "source": [
        "# Mengakses nilai spesifik pada nested list\n",
        "nested_list[0][0] # Indeks [0] pertama digunakan untuk mengakses list pertama dan Indeks [0] yang kedua digunakan untuk mengakses elemen pertama"
      ],
      "metadata": {
        "colab": {
          "base_uri": "https://localhost:8080/",
          "height": 35
        },
        "id": "43NHTjndFnJo",
        "outputId": "27eacd2d-c941-4ead-998c-e48585c24b6f"
      },
      "execution_count": 14,
      "outputs": [
        {
          "output_type": "execute_result",
          "data": {
            "text/plain": [
              "'Apel'"
            ],
            "application/vnd.google.colaboratory.intrinsic+json": {
              "type": "string"
            }
          },
          "metadata": {},
          "execution_count": 14
        }
      ]
    },
    {
      "cell_type": "code",
      "source": [
        "# Mengakses List kedua dan elemen pertama\n",
        "nested_list[1][0]"
      ],
      "metadata": {
        "colab": {
          "base_uri": "https://localhost:8080/"
        },
        "id": "coHczqRTGVJA",
        "outputId": "2fc01b30-f919-4083-a736-8b997313a0c3"
      },
      "execution_count": 15,
      "outputs": [
        {
          "output_type": "execute_result",
          "data": {
            "text/plain": [
              "True"
            ]
          },
          "metadata": {},
          "execution_count": 15
        }
      ]
    },
    {
      "cell_type": "markdown",
      "source": [
        "## **Operasi Pada List**"
      ],
      "metadata": {
        "id": "LCpOVrStGgZ2"
      }
    },
    {
      "cell_type": "code",
      "source": [
        "# Melihat kembali List yang kita miliki\n",
        "print(contoh_list)\n",
        "print(contoh_list_2)\n",
        "print(nested_list)"
      ],
      "metadata": {
        "colab": {
          "base_uri": "https://localhost:8080/"
        },
        "id": "tOe_qDFKG4OX",
        "outputId": "a822b490-07c6-42ef-9483-1d6efabd51f1"
      },
      "execution_count": 16,
      "outputs": [
        {
          "output_type": "stream",
          "name": "stdout",
          "text": [
            "['Apel', 'Nama', False, True, 1, 8.5]\n",
            "[True, False, 'Makanan', 8.4]\n",
            "[['Apel', 'Nama', False, 1], [True, False, True]]\n"
          ]
        }
      ]
    },
    {
      "cell_type": "markdown",
      "source": [
        "### Create Data"
      ],
      "metadata": {
        "id": "BwjLj_MHHXvr"
      }
    },
    {
      "cell_type": "code",
      "source": [
        "# Method insert() bisa menambahkan elemen dengan index yang kita inginkan\n",
        "contoh_list.insert(0, \"Mangga\") # Menambahkan elemen pertama pada list dengan string \"Mangga\""
      ],
      "metadata": {
        "id": "Wk8g7kwaHdxz"
      },
      "execution_count": 17,
      "outputs": []
    },
    {
      "cell_type": "code",
      "source": [
        "print(contoh_list) # string \"Apel\" berganti menjadi elemen kedua"
      ],
      "metadata": {
        "colab": {
          "base_uri": "https://localhost:8080/"
        },
        "id": "ve1AA0PUH8ii",
        "outputId": "1d64af2e-ae8a-462e-c3e7-731268c93362"
      },
      "execution_count": 18,
      "outputs": [
        {
          "output_type": "stream",
          "name": "stdout",
          "text": [
            "['Mangga', 'Apel', 'Nama', False, True, 1, 8.5]\n"
          ]
        }
      ]
    },
    {
      "cell_type": "code",
      "source": [
        "# Method append() menambahkan elemen pada indeks terakhir\n",
        "contoh_list_2.append(\"Baru\")"
      ],
      "metadata": {
        "id": "I0IinWNBIfLY"
      },
      "execution_count": 19,
      "outputs": []
    },
    {
      "cell_type": "code",
      "source": [
        "print(contoh_list_2)"
      ],
      "metadata": {
        "colab": {
          "base_uri": "https://localhost:8080/"
        },
        "id": "3Zv1nFsrIq4x",
        "outputId": "c21cfa9d-363b-48fc-ab59-913f85a5a2be"
      },
      "execution_count": 20,
      "outputs": [
        {
          "output_type": "stream",
          "name": "stdout",
          "text": [
            "[True, False, 'Makanan', 8.4, 'Baru']\n"
          ]
        }
      ]
    },
    {
      "cell_type": "code",
      "source": [
        "# Menggunakan method insert() dan append() pada Nested List\n",
        "nested_list.insert(1, \"Baru\")"
      ],
      "metadata": {
        "id": "4T72hLJeI5x8"
      },
      "execution_count": 21,
      "outputs": []
    },
    {
      "cell_type": "code",
      "source": [
        "print(nested_list) # List akan memiliki 3 elemen"
      ],
      "metadata": {
        "colab": {
          "base_uri": "https://localhost:8080/"
        },
        "id": "s7DWVstHJGPP",
        "outputId": "483fd05b-2b9c-4b6a-b8f1-e7fbc96f242e"
      },
      "execution_count": 22,
      "outputs": [
        {
          "output_type": "stream",
          "name": "stdout",
          "text": [
            "[['Apel', 'Nama', False, 1], 'Baru', [True, False, True]]\n"
          ]
        }
      ]
    },
    {
      "cell_type": "code",
      "source": [
        "nested_list.append(\"elemen_ke_4\")"
      ],
      "metadata": {
        "id": "ibMxmELhJR22"
      },
      "execution_count": 23,
      "outputs": []
    },
    {
      "cell_type": "code",
      "source": [
        "print(nested_list) # List akan memiliki 4 elemen"
      ],
      "metadata": {
        "colab": {
          "base_uri": "https://localhost:8080/"
        },
        "id": "gZjtcyIJJaFp",
        "outputId": "8a2cf836-96ef-4c0e-e789-8a07650fa1e7"
      },
      "execution_count": 24,
      "outputs": [
        {
          "output_type": "stream",
          "name": "stdout",
          "text": [
            "[['Apel', 'Nama', False, 1], 'Baru', [True, False, True], 'elemen_ke_4']\n"
          ]
        }
      ]
    },
    {
      "cell_type": "code",
      "source": [
        "# Menambahkan elemen pada list yang sudah ada di Nested List\n",
        "nested_list[2].insert(1, \"Baru\") # Indeks [2] akan mengakses elemen ketiga dan indeks 1 akan menambahkan elemen pada elemen kedua"
      ],
      "metadata": {
        "id": "O-r-d5b9KJTE"
      },
      "execution_count": 26,
      "outputs": []
    },
    {
      "cell_type": "code",
      "source": [
        "print(nested_list) # Maka pada list pertama akan ditambahkan elemen baru"
      ],
      "metadata": {
        "colab": {
          "base_uri": "https://localhost:8080/"
        },
        "id": "QCIj-YsDK4c-",
        "outputId": "01dd78e2-5853-4ed1-a9ae-47a8f80d2770"
      },
      "execution_count": 27,
      "outputs": [
        {
          "output_type": "stream",
          "name": "stdout",
          "text": [
            "[['Apel', 'Nama', False, 1], 'Baru', [True, 'Baru', False, True], 'elemen_ke_4']\n"
          ]
        }
      ]
    },
    {
      "cell_type": "code",
      "source": [
        "# Menambahkan elemen pada Nested List menggunakan method append()\n",
        "nested_list[0].append(\"Mangga\") # Indeks [0] akan mengakses elemen pertama dan menambahkan string \"Mangga\" pada indeks terakhir"
      ],
      "metadata": {
        "id": "eH-hgiU1K-6H"
      },
      "execution_count": 28,
      "outputs": []
    },
    {
      "cell_type": "code",
      "source": [
        "print(nested_list)"
      ],
      "metadata": {
        "colab": {
          "base_uri": "https://localhost:8080/"
        },
        "id": "cwHNMcFQLmoq",
        "outputId": "6359b87e-cab2-4708-85eb-898fdc658e71"
      },
      "execution_count": 29,
      "outputs": [
        {
          "output_type": "stream",
          "name": "stdout",
          "text": [
            "[['Apel', 'Nama', False, 1, 'Mangga'], 'Baru', [True, 'Baru', False, True], 'elemen_ke_4']\n"
          ]
        }
      ]
    },
    {
      "cell_type": "markdown",
      "source": [
        "### **Remove Data**"
      ],
      "metadata": {
        "id": "8yfxqkH8Lu4M"
      }
    },
    {
      "cell_type": "code",
      "source": [
        "# Melihat kembali List yang kita miliki\n",
        "print(contoh_list)\n",
        "print(contoh_list_2)\n",
        "print(nested_list)"
      ],
      "metadata": {
        "colab": {
          "base_uri": "https://localhost:8080/"
        },
        "id": "7KZwT-1LLqia",
        "outputId": "e8be35dc-432e-45bd-97c5-3dc2d95952af"
      },
      "execution_count": 30,
      "outputs": [
        {
          "output_type": "stream",
          "name": "stdout",
          "text": [
            "['Mangga', 'Apel', 'Nama', False, True, 1, 8.5]\n",
            "[True, False, 'Makanan', 8.4, 'Baru']\n",
            "[['Apel', 'Nama', False, 1, 'Mangga'], 'Baru', [True, 'Baru', False, True], 'elemen_ke_4']\n"
          ]
        }
      ]
    },
    {
      "cell_type": "code",
      "source": [
        "# Menghapus elemen menggunakan method remove()\n",
        "contoh_list.remove(\"Mangga\") # Menghapus data berdasarkan nilai pada elemen"
      ],
      "metadata": {
        "id": "1WxIjvyYL1x4"
      },
      "execution_count": 31,
      "outputs": []
    },
    {
      "cell_type": "code",
      "source": [
        "print(contoh_list) # Elemen dengan nilai string \"Mangga\" akan terhapus"
      ],
      "metadata": {
        "colab": {
          "base_uri": "https://localhost:8080/"
        },
        "id": "Dn-SQvtvMGpF",
        "outputId": "0a5cb766-29e7-4ef6-8e71-e736b28e0c8b"
      },
      "execution_count": 32,
      "outputs": [
        {
          "output_type": "stream",
          "name": "stdout",
          "text": [
            "['Apel', 'Nama', False, True, 1, 8.5]\n"
          ]
        }
      ]
    },
    {
      "cell_type": "code",
      "source": [
        "contoh_list_2.remove(0) # Menghapus data berdasarkan nilai pada elemen"
      ],
      "metadata": {
        "id": "iawz66BUMUGN"
      },
      "execution_count": 34,
      "outputs": []
    },
    {
      "cell_type": "code",
      "source": [
        "print(contoh_list_2) # Elemen dengan nilai 0 atau False akan terhapus"
      ],
      "metadata": {
        "colab": {
          "base_uri": "https://localhost:8080/"
        },
        "id": "6PLkIoFyMiWV",
        "outputId": "14b998bd-55b5-410a-937e-27bf6daae8b9"
      },
      "execution_count": 35,
      "outputs": [
        {
          "output_type": "stream",
          "name": "stdout",
          "text": [
            "[True, 'Makanan', 8.4, 'Baru']\n"
          ]
        }
      ]
    },
    {
      "cell_type": "code",
      "source": [
        "nested_list.remove(\"Baru\") # Menghapus elemen berdasarkan nilai pada elemen"
      ],
      "metadata": {
        "id": "nfq5KvB8M7pB"
      },
      "execution_count": 36,
      "outputs": []
    },
    {
      "cell_type": "code",
      "source": [
        "print(nested_list) # Semua elemen dengan nilai string \"Baru\" akan terhapus"
      ],
      "metadata": {
        "colab": {
          "base_uri": "https://localhost:8080/"
        },
        "id": "Yp629dHkNCpp",
        "outputId": "131321fd-ee97-4254-fe8b-55221e8c4b72"
      },
      "execution_count": 37,
      "outputs": [
        {
          "output_type": "stream",
          "name": "stdout",
          "text": [
            "[['Apel', 'Nama', False, 1, 'Mangga'], [True, 'Baru', False, True], 'elemen_ke_4']\n"
          ]
        }
      ]
    },
    {
      "cell_type": "code",
      "source": [
        "# Melihat kembali List yang kita miliki\n",
        "print(contoh_list)\n",
        "print(contoh_list_2)\n",
        "print(nested_list)"
      ],
      "metadata": {
        "colab": {
          "base_uri": "https://localhost:8080/"
        },
        "id": "nbwjnluLNPFD",
        "outputId": "9d2718c9-a7d8-45c5-86e1-fd0bdf26271a"
      },
      "execution_count": 38,
      "outputs": [
        {
          "output_type": "stream",
          "name": "stdout",
          "text": [
            "['Apel', 'Nama', False, True, 1, 8.5]\n",
            "[True, 'Makanan', 8.4, 'Baru']\n",
            "[['Apel', 'Nama', False, 1, 'Mangga'], [True, 'Baru', False, True], 'elemen_ke_4']\n"
          ]
        }
      ]
    },
    {
      "cell_type": "code",
      "source": [
        "# Menghapus elemen dengan method pop()\n",
        "contoh_list.pop() # Menghapus Elemen dengan indeks terakhir"
      ],
      "metadata": {
        "colab": {
          "base_uri": "https://localhost:8080/"
        },
        "id": "awNm66sjNWyp",
        "outputId": "5c115e36-4597-45e3-c8ef-0538e64c2bc6"
      },
      "execution_count": 39,
      "outputs": [
        {
          "output_type": "execute_result",
          "data": {
            "text/plain": [
              "8.5"
            ]
          },
          "metadata": {},
          "execution_count": 39
        }
      ]
    },
    {
      "cell_type": "code",
      "source": [
        "print(contoh_list) # Makan elemen dengan nilai 8.5 yaitu indeks terakhir akan terhapus"
      ],
      "metadata": {
        "colab": {
          "base_uri": "https://localhost:8080/"
        },
        "id": "yuejM-5bNlUm",
        "outputId": "a94d5e3f-a76a-4f66-8c50-863da4f32734"
      },
      "execution_count": 40,
      "outputs": [
        {
          "output_type": "stream",
          "name": "stdout",
          "text": [
            "['Apel', 'Nama', False, True, 1]\n"
          ]
        }
      ]
    },
    {
      "cell_type": "code",
      "source": [
        "#  Menghapus elemen terkahir pada salah satu list yang terdapat di nested list\n",
        "nested_list[0].pop()"
      ],
      "metadata": {
        "colab": {
          "base_uri": "https://localhost:8080/",
          "height": 35
        },
        "id": "IUSAnJVrNv-S",
        "outputId": "da8ebe28-9357-4ae9-eac4-0994ec7dc01a"
      },
      "execution_count": 41,
      "outputs": [
        {
          "output_type": "execute_result",
          "data": {
            "text/plain": [
              "'Mangga'"
            ],
            "application/vnd.google.colaboratory.intrinsic+json": {
              "type": "string"
            }
          },
          "metadata": {},
          "execution_count": 41
        }
      ]
    },
    {
      "cell_type": "code",
      "source": [
        "print(nested_list) # Maka indeks terakhir pada elemen pertama(list pertama) akan terhapus"
      ],
      "metadata": {
        "colab": {
          "base_uri": "https://localhost:8080/"
        },
        "id": "lS1ZkycPOG26",
        "outputId": "cd29221e-56fa-40ad-a640-86e27a16fbeb"
      },
      "execution_count": 42,
      "outputs": [
        {
          "output_type": "stream",
          "name": "stdout",
          "text": [
            "[['Apel', 'Nama', False, 1], [True, 'Baru', False, True], 'elemen_ke_4']\n"
          ]
        }
      ]
    },
    {
      "cell_type": "code",
      "source": [
        "# Menghapus elemen menggunakan del\n",
        "del contoh_list_2[-1] # Menghapus elemen pada indeks pertama dari akhir"
      ],
      "metadata": {
        "id": "-8e3RyI_OTWS"
      },
      "execution_count": 43,
      "outputs": []
    },
    {
      "cell_type": "code",
      "source": [
        "print(contoh_list_2) # Makan elemen pada indeks pertama dari akhir dengan nilai \"Baru\" akan terhapus"
      ],
      "metadata": {
        "colab": {
          "base_uri": "https://localhost:8080/"
        },
        "id": "TZf1hnu9OoDR",
        "outputId": "d5235338-5150-4078-def6-bde9ef4baa65"
      },
      "execution_count": 44,
      "outputs": [
        {
          "output_type": "stream",
          "name": "stdout",
          "text": [
            "[True, 'Makanan', 8.4]\n"
          ]
        }
      ]
    },
    {
      "cell_type": "code",
      "source": [
        "del nested_list[0][-1] # Menghapus indeks pertama dari akhir pada elemen pertama di nested list"
      ],
      "metadata": {
        "id": "BcBMYzl7O1nJ"
      },
      "execution_count": 45,
      "outputs": []
    },
    {
      "cell_type": "code",
      "source": [
        "print(nested_list) # Maka elemen dengan nilai 1 akan terhapus"
      ],
      "metadata": {
        "colab": {
          "base_uri": "https://localhost:8080/"
        },
        "id": "KpzhaPofO_HX",
        "outputId": "50d09daf-0f1a-4964-ec1c-64d58dfff615"
      },
      "execution_count": 46,
      "outputs": [
        {
          "output_type": "stream",
          "name": "stdout",
          "text": [
            "[['Apel', 'Nama', False], [True, 'Baru', False, True], 'elemen_ke_4']\n"
          ]
        }
      ]
    },
    {
      "cell_type": "code",
      "source": [
        "# Mengapus seluruh elemen pada list menggunakan method clear()\n",
        "contoh_list_2.clear()"
      ],
      "metadata": {
        "id": "HviXxnqFPJfd"
      },
      "execution_count": 47,
      "outputs": []
    },
    {
      "cell_type": "code",
      "source": [
        "print(contoh_list_2)"
      ],
      "metadata": {
        "colab": {
          "base_uri": "https://localhost:8080/"
        },
        "id": "iTwfHrsRPamA",
        "outputId": "d56daff5-4496-47c6-e51e-a168c11f4640"
      },
      "execution_count": 48,
      "outputs": [
        {
          "output_type": "stream",
          "name": "stdout",
          "text": [
            "[]\n"
          ]
        }
      ]
    },
    {
      "cell_type": "code",
      "source": [
        "# Menghapus sebuah list pada nested list\n",
        "nested_list[0].clear() # Menghapus seluruh elemen pada indeks pertama di nested list"
      ],
      "metadata": {
        "id": "3qTIS96TPfo4"
      },
      "execution_count": 49,
      "outputs": []
    },
    {
      "cell_type": "code",
      "source": [
        "print(nested_list) # Elemen pada indeks pertam di Nested List akan terhapus"
      ],
      "metadata": {
        "colab": {
          "base_uri": "https://localhost:8080/"
        },
        "id": "usSvfD9pPnmO",
        "outputId": "26e03fed-112f-41a4-d1ea-a95a7c760f67"
      },
      "execution_count": 50,
      "outputs": [
        {
          "output_type": "stream",
          "name": "stdout",
          "text": [
            "[[], [True, 'Baru', False, True], 'elemen_ke_4']\n"
          ]
        }
      ]
    },
    {
      "cell_type": "markdown",
      "source": [
        "## **Iterasi pada List**"
      ],
      "metadata": {
        "id": "cPD-OUjaQJSZ"
      }
    },
    {
      "cell_type": "code",
      "source": [
        "# Melihat kembali List yang kita miliki\n",
        "print(contoh_list)\n",
        "print(contoh_list_2)\n",
        "print(nested_list)"
      ],
      "metadata": {
        "colab": {
          "base_uri": "https://localhost:8080/"
        },
        "id": "h80rLBqCQXiD",
        "outputId": "420d49d2-165d-4b23-b795-2bb2d8e9daec"
      },
      "execution_count": 53,
      "outputs": [
        {
          "output_type": "stream",
          "name": "stdout",
          "text": [
            "['Apel', 'Nama', False, True, 1]\n",
            "[]\n",
            "[[], [True, 'Baru', False, True], 'elemen_ke_4']\n"
          ]
        }
      ]
    },
    {
      "cell_type": "code",
      "source": [
        "for i in contoh_list : # i merupakan simbol untuk elemen pada list, bisa diganti menjadi apa saja\n",
        "  print(i) # print setiap elemen yang terdapat pada contoh_list"
      ],
      "metadata": {
        "colab": {
          "base_uri": "https://localhost:8080/"
        },
        "id": "yYtNGV_OQmRP",
        "outputId": "581b4ad2-9f82-4034-e4aa-2393729ea9f1"
      },
      "execution_count": 55,
      "outputs": [
        {
          "output_type": "stream",
          "name": "stdout",
          "text": [
            "Apel\n",
            "Nama\n",
            "False\n",
            "True\n",
            "1\n"
          ]
        }
      ]
    },
    {
      "cell_type": "code",
      "source": [
        "for i in contoh_list :\n",
        "  if isinstance(i, str):\n",
        "    print(i)"
      ],
      "metadata": {
        "colab": {
          "base_uri": "https://localhost:8080/"
        },
        "id": "2uHmfkZYQ3kB",
        "outputId": "cf289880-24c5-43c5-b2cb-968c957b2b53"
      },
      "execution_count": 56,
      "outputs": [
        {
          "output_type": "stream",
          "name": "stdout",
          "text": [
            "Apel\n",
            "Nama\n"
          ]
        }
      ]
    },
    {
      "cell_type": "code",
      "source": [
        "for i in contoh_list :\n",
        "  if isinstance(i, int):\n",
        "    print(i)"
      ],
      "metadata": {
        "colab": {
          "base_uri": "https://localhost:8080/"
        },
        "id": "ie2QOi80RZyx",
        "outputId": "69d14e4e-4192-46c8-cf42-b05d19f43c13"
      },
      "execution_count": 58,
      "outputs": [
        {
          "output_type": "stream",
          "name": "stdout",
          "text": [
            "False\n",
            "True\n",
            "1\n"
          ]
        }
      ]
    },
    {
      "cell_type": "code",
      "source": [
        "if False in contoh_list :\n",
        "  print(\"Terdapat Boolean False pada List\")"
      ],
      "metadata": {
        "colab": {
          "base_uri": "https://localhost:8080/"
        },
        "id": "DjPPY_2ISdHj",
        "outputId": "4990698a-b980-493a-8783-c721d2dd4fcf"
      },
      "execution_count": 61,
      "outputs": [
        {
          "output_type": "stream",
          "name": "stdout",
          "text": [
            "Terdapat Boolean False pada List\n"
          ]
        }
      ]
    },
    {
      "cell_type": "code",
      "source": [
        "if 5 in contoh_list :\n",
        "  print(\"Terdapat Angka 5 pada List\") # Tidak akan menghasilkan Output karena Angka 5 tidak terdapat pada list"
      ],
      "metadata": {
        "id": "AEm5YDkxSmJL"
      },
      "execution_count": 62,
      "outputs": []
    },
    {
      "cell_type": "markdown",
      "source": [
        "## **Method Pada List**"
      ],
      "metadata": {
        "id": "eqmbx2VTS7je"
      }
    },
    {
      "cell_type": "markdown",
      "source": [
        "**len()**"
      ],
      "metadata": {
        "id": "X3k3rHBMTVbN"
      }
    },
    {
      "cell_type": "code",
      "source": [
        "len(contoh_list) # Cek jumlah elemen pada List"
      ],
      "metadata": {
        "colab": {
          "base_uri": "https://localhost:8080/"
        },
        "id": "PJ-6M_GzSzGA",
        "outputId": "6d8a96d6-8593-4d2f-ba6f-662f852b9484"
      },
      "execution_count": 63,
      "outputs": [
        {
          "output_type": "execute_result",
          "data": {
            "text/plain": [
              "5"
            ]
          },
          "metadata": {},
          "execution_count": 63
        }
      ]
    },
    {
      "cell_type": "markdown",
      "source": [
        "**copy()**"
      ],
      "metadata": {
        "id": "RZYbxuzBTbEI"
      }
    },
    {
      "cell_type": "code",
      "source": [
        "print(contoh_list)"
      ],
      "metadata": {
        "colab": {
          "base_uri": "https://localhost:8080/"
        },
        "id": "AJyM-ZTATtQn",
        "outputId": "b97bd361-dd14-413c-8a4d-392324331931"
      },
      "execution_count": 64,
      "outputs": [
        {
          "output_type": "stream",
          "name": "stdout",
          "text": [
            "['Apel', 'Nama', False, True, 1]\n"
          ]
        }
      ]
    },
    {
      "cell_type": "code",
      "source": [
        "# Duplikat nilai pada list tanpa method copy\n",
        "contoh_list_3 = contoh_list"
      ],
      "metadata": {
        "id": "nvRCuNAhTHOU"
      },
      "execution_count": 65,
      "outputs": []
    },
    {
      "cell_type": "code",
      "source": [
        "print(contoh_list_3)"
      ],
      "metadata": {
        "colab": {
          "base_uri": "https://localhost:8080/"
        },
        "id": "mvmUpxitT0wF",
        "outputId": "2682d8ff-98dc-45ca-ce17-e4ec19d13c7e"
      },
      "execution_count": 66,
      "outputs": [
        {
          "output_type": "stream",
          "name": "stdout",
          "text": [
            "['Apel', 'Nama', False, True, 1]\n"
          ]
        }
      ]
    },
    {
      "cell_type": "code",
      "source": [
        "contoh_list_3.append(2) # Menambahkan elemen terakhir pada list dengan nilai 2"
      ],
      "metadata": {
        "id": "365zPB1xT3XD"
      },
      "execution_count": 67,
      "outputs": []
    },
    {
      "cell_type": "code",
      "source": [
        "print(contoh_list_3)"
      ],
      "metadata": {
        "colab": {
          "base_uri": "https://localhost:8080/"
        },
        "id": "aErFp1LjT9if",
        "outputId": "70888bee-9426-4d22-aa70-b6d57467ecad"
      },
      "execution_count": 68,
      "outputs": [
        {
          "output_type": "stream",
          "name": "stdout",
          "text": [
            "['Apel', 'Nama', False, True, 1, 2]\n"
          ]
        }
      ]
    },
    {
      "cell_type": "code",
      "source": [
        "print(contoh_list) # Jika kita melakukan perubahan pada contoh_list_3 maka contoh_list akan terpengaruh dan cara ini tidak disarankan"
      ],
      "metadata": {
        "colab": {
          "base_uri": "https://localhost:8080/"
        },
        "id": "uWj6H8qCUBqR",
        "outputId": "ab0f2139-ffce-4e6a-8bb7-9b0766ca9601"
      },
      "execution_count": 69,
      "outputs": [
        {
          "output_type": "stream",
          "name": "stdout",
          "text": [
            "['Apel', 'Nama', False, True, 1, 2]\n"
          ]
        }
      ]
    },
    {
      "cell_type": "code",
      "source": [
        "# method copy() digunakan untuk duplikat nilai pada List\n",
        "contoh_list_4 = contoh_list.copy()"
      ],
      "metadata": {
        "id": "Mq0CMQZXTxW6"
      },
      "execution_count": 70,
      "outputs": []
    },
    {
      "cell_type": "code",
      "source": [
        "print(contoh_list_4)"
      ],
      "metadata": {
        "colab": {
          "base_uri": "https://localhost:8080/"
        },
        "id": "ayXzSJiYUlD2",
        "outputId": "306097e0-eb9c-4782-fad9-7c0efac21640"
      },
      "execution_count": 71,
      "outputs": [
        {
          "output_type": "stream",
          "name": "stdout",
          "text": [
            "['Apel', 'Nama', False, True, 1, 2]\n"
          ]
        }
      ]
    },
    {
      "cell_type": "code",
      "source": [
        "contoh_list_4[0] = \"Mangga\" # Mengganti nilai pada indeks 0 dengan nilai string \"Mangga\""
      ],
      "metadata": {
        "id": "zvLIwBiGUpBL"
      },
      "execution_count": 73,
      "outputs": []
    },
    {
      "cell_type": "code",
      "source": [
        "print(contoh_list_4)"
      ],
      "metadata": {
        "colab": {
          "base_uri": "https://localhost:8080/"
        },
        "id": "HN1cIUxUUwCX",
        "outputId": "5da1564d-f22b-48c6-aab1-fdaff4a98a31"
      },
      "execution_count": 74,
      "outputs": [
        {
          "output_type": "stream",
          "name": "stdout",
          "text": [
            "['Mangga', 'Nama', False, True, 1, 2]\n"
          ]
        }
      ]
    },
    {
      "cell_type": "code",
      "source": [
        "print(contoh_list) # contoh_list tidak akan terpengaruh jika ada perubahan pada contoh_list_4"
      ],
      "metadata": {
        "colab": {
          "base_uri": "https://localhost:8080/"
        },
        "id": "A-FAza8wUzUn",
        "outputId": "06f9cc46-0588-4215-bab6-eccd22e272d1"
      },
      "execution_count": 75,
      "outputs": [
        {
          "output_type": "stream",
          "name": "stdout",
          "text": [
            "['Apel', 'Nama', False, True, 1, 2]\n"
          ]
        }
      ]
    },
    {
      "cell_type": "markdown",
      "source": [
        "**Concat (+ dan extend)**"
      ],
      "metadata": {
        "id": "GVizY33EVEuB"
      }
    },
    {
      "cell_type": "code",
      "source": [
        "print(contoh_list)\n",
        "print(contoh_list_2)\n",
        "print(contoh_list_3)\n",
        "print(contoh_list_4)"
      ],
      "metadata": {
        "colab": {
          "base_uri": "https://localhost:8080/"
        },
        "id": "8Iqvq5ZBU-Dy",
        "outputId": "5735b531-c020-464d-d858-df8a6d8aaceb"
      },
      "execution_count": 76,
      "outputs": [
        {
          "output_type": "stream",
          "name": "stdout",
          "text": [
            "['Apel', 'Nama', False, True, 1, 2]\n",
            "[]\n",
            "['Apel', 'Nama', False, True, 1, 2]\n",
            "['Mangga', 'Nama', False, True, 1, 2]\n"
          ]
        }
      ]
    },
    {
      "cell_type": "code",
      "source": [
        "# Concat menggunakan operator +\n",
        "print(contoh_list + contoh_list_2)"
      ],
      "metadata": {
        "colab": {
          "base_uri": "https://localhost:8080/"
        },
        "id": "7ngigCE4VVUC",
        "outputId": "25eaa8bc-726f-49dc-e96c-e2d2b74ac912"
      },
      "execution_count": 77,
      "outputs": [
        {
          "output_type": "stream",
          "name": "stdout",
          "text": [
            "['Apel', 'Nama', False, True, 1, 2]\n"
          ]
        }
      ]
    },
    {
      "cell_type": "code",
      "source": [
        "# Concat menggunakan method extend\n",
        "contoh_list_3.extend(contoh_list_4)"
      ],
      "metadata": {
        "id": "QEsHiKToVfDX"
      },
      "execution_count": 91,
      "outputs": []
    },
    {
      "cell_type": "code",
      "source": [
        "print(contoh_list_3) # Maka contoh_list_3 akan berubah sedangkan contoh_list_4 akan tetap"
      ],
      "metadata": {
        "colab": {
          "base_uri": "https://localhost:8080/"
        },
        "id": "LcKWKgLDXRI8",
        "outputId": "54d3b2f1-17cf-441d-fc30-d6e22d33e5af"
      },
      "execution_count": 92,
      "outputs": [
        {
          "output_type": "stream",
          "name": "stdout",
          "text": [
            "['Apel', 'Nama', False, True, 1, 2, 'Mangga', 'Nama', False, True, 1, 2, 'Mangga', 'Nama', False, True, 1, 2]\n"
          ]
        }
      ]
    },
    {
      "cell_type": "code",
      "source": [
        "print(contoh_list_4)"
      ],
      "metadata": {
        "colab": {
          "base_uri": "https://localhost:8080/"
        },
        "id": "ZUXUu5ZmXZ-C",
        "outputId": "c0178e36-8a68-4411-e765-e5e9a4bfc1ca"
      },
      "execution_count": 93,
      "outputs": [
        {
          "output_type": "stream",
          "name": "stdout",
          "text": [
            "['Mangga', 'Nama', False, True, 1, 2]\n"
          ]
        }
      ]
    },
    {
      "cell_type": "markdown",
      "source": [
        "**index()**"
      ],
      "metadata": {
        "id": "Z1y4UoXhXg2u"
      }
    },
    {
      "cell_type": "code",
      "source": [
        "print(contoh_list.index(\"Apel\")) # Untuk cek nilai berapa pada indeks keberapa"
      ],
      "metadata": {
        "colab": {
          "base_uri": "https://localhost:8080/"
        },
        "id": "87khjBJ5XoRv",
        "outputId": "c1c42ee6-f3cb-4852-fd34-3a81d92318fc"
      },
      "execution_count": 94,
      "outputs": [
        {
          "output_type": "stream",
          "name": "stdout",
          "text": [
            "0\n"
          ]
        }
      ]
    },
    {
      "cell_type": "markdown",
      "source": [
        "**sort()**"
      ],
      "metadata": {
        "id": "EyMBJDsBX3tu"
      }
    },
    {
      "cell_type": "code",
      "source": [
        "contoh_list_5 = list(\"51232\")"
      ],
      "metadata": {
        "id": "Yj_f0iviX0HK"
      },
      "execution_count": 96,
      "outputs": []
    },
    {
      "cell_type": "code",
      "source": [
        "print(contoh_list_5)"
      ],
      "metadata": {
        "colab": {
          "base_uri": "https://localhost:8080/"
        },
        "id": "J6oAZ8mLYMyX",
        "outputId": "690400d9-9889-4c29-b066-c6e34a9d9132"
      },
      "execution_count": 97,
      "outputs": [
        {
          "output_type": "stream",
          "name": "stdout",
          "text": [
            "['5', '1', '2', '3', '2']\n"
          ]
        }
      ]
    },
    {
      "cell_type": "code",
      "source": [
        "contoh_list_5.sort() # Untuk mengurutkan nilai pada List, dengan catatan hanya mendukung tipe data String dan Int atau Float"
      ],
      "metadata": {
        "id": "fNi-6i-GYQIr"
      },
      "execution_count": 98,
      "outputs": []
    },
    {
      "cell_type": "code",
      "source": [
        "print(contoh_list_5)"
      ],
      "metadata": {
        "colab": {
          "base_uri": "https://localhost:8080/"
        },
        "id": "cJCqqGpNYScK",
        "outputId": "0b5e433f-c9e6-4dd2-e03f-7c24a21a8dcc"
      },
      "execution_count": 99,
      "outputs": [
        {
          "output_type": "stream",
          "name": "stdout",
          "text": [
            "['1', '2', '2', '3', '5']\n"
          ]
        }
      ]
    },
    {
      "cell_type": "code",
      "source": [
        "contoh_list_6 = list(\"sardiwan\")"
      ],
      "metadata": {
        "id": "eYxdXEuAYfbU"
      },
      "execution_count": 101,
      "outputs": []
    },
    {
      "cell_type": "code",
      "source": [
        "print(contoh_list_6)"
      ],
      "metadata": {
        "colab": {
          "base_uri": "https://localhost:8080/"
        },
        "id": "ZooLgUfpYoOz",
        "outputId": "6e4e490b-52e1-4fae-a98f-d123b7dcba85"
      },
      "execution_count": 102,
      "outputs": [
        {
          "output_type": "stream",
          "name": "stdout",
          "text": [
            "['s', 'a', 'r', 'd', 'i', 'w', 'a', 'n']\n"
          ]
        }
      ]
    },
    {
      "cell_type": "code",
      "source": [
        "contoh_list_6.sort()"
      ],
      "metadata": {
        "id": "hEbHuAphYstQ"
      },
      "execution_count": 103,
      "outputs": []
    },
    {
      "cell_type": "code",
      "source": [
        "print(contoh_list_6)"
      ],
      "metadata": {
        "colab": {
          "base_uri": "https://localhost:8080/"
        },
        "id": "EuVYJoHhYv39",
        "outputId": "adb2641f-b16b-4aa4-83ab-daaabc42e9a0"
      },
      "execution_count": 104,
      "outputs": [
        {
          "output_type": "stream",
          "name": "stdout",
          "text": [
            "['a', 'a', 'd', 'i', 'n', 'r', 's', 'w']\n"
          ]
        }
      ]
    },
    {
      "cell_type": "markdown",
      "source": [
        "**reverse()**"
      ],
      "metadata": {
        "id": "msUiJZ41Y12P"
      }
    },
    {
      "cell_type": "code",
      "source": [
        "# reverse() berfungsi untuk membalikkan index pada List\n",
        "print(contoh_list_6)"
      ],
      "metadata": {
        "colab": {
          "base_uri": "https://localhost:8080/"
        },
        "id": "CAR5ayOOY75E",
        "outputId": "4d8e799a-bef6-4ba0-d07b-f092d97aeb22"
      },
      "execution_count": 105,
      "outputs": [
        {
          "output_type": "stream",
          "name": "stdout",
          "text": [
            "['a', 'a', 'd', 'i', 'n', 'r', 's', 'w']\n"
          ]
        }
      ]
    },
    {
      "cell_type": "code",
      "source": [
        "contoh_list_6.reverse()"
      ],
      "metadata": {
        "id": "Lw6vwz8nZDxL"
      },
      "execution_count": 106,
      "outputs": []
    },
    {
      "cell_type": "code",
      "source": [
        "print(contoh_list_6)"
      ],
      "metadata": {
        "colab": {
          "base_uri": "https://localhost:8080/"
        },
        "id": "jr5SQ1ysZGuQ",
        "outputId": "4c0c0f8a-39d3-4a9d-f7ce-580cc84a5636"
      },
      "execution_count": 107,
      "outputs": [
        {
          "output_type": "stream",
          "name": "stdout",
          "text": [
            "['w', 's', 'r', 'n', 'i', 'd', 'a', 'a']\n"
          ]
        }
      ]
    },
    {
      "cell_type": "markdown",
      "source": [
        "# **END OF NOTEBOOK**"
      ],
      "metadata": {
        "id": "8BDmGnJOZIyc"
      }
    }
  ]
}