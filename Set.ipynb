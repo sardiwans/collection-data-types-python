{
  "nbformat": 4,
  "nbformat_minor": 0,
  "metadata": {
    "colab": {
      "provenance": [],
      "authorship_tag": "ABX9TyNQStxTbdtWRgRUjaCSIU2a"
    },
    "kernelspec": {
      "name": "python3",
      "display_name": "Python 3"
    },
    "language_info": {
      "name": "python"
    }
  },
  "cells": [
    {
      "cell_type": "markdown",
      "source": [
        " #`Set`\n",
        "\n",
        "> Tipe data yang berisi kumpulan tipe data dan dipakai untuk mengolah himpunan (set). Jika dibandingkan dengan tipe data berbentuk array lain di Python, tipe data set berbeda dalam hal index, pengurutan dan keunikan nilai (unique value).\n",
        "\n",
        "Tipe data set tidak memiliki index, sehingga tidak ada mekanisme pengurutan. Maksudnya, ketika kita menginput beberapa nilai ke dalam tipe data set, posisi nilai tersebut bisa berada di mana saja, tidak persis seperti apa yang tertulis. Akibat tidak memiliki index, maka kita tidak bisa menambah nilai baru ke dalam tipe data set dengan cara menulis nomor index (seperti di dalam tipe data list)\n",
        "\n",
        "Ciri khas selanjutnya dari tipe data set adalah tidak bisa menerima nilai ganda, setiap nilai di dalam set harus unik. Jika kita menginput beberapa nilai yang sama, hanya satu yang tersimpan di dalam set.\n",
        "\n",
        "**Sifat Set** :\n",
        "\n",
        "1. Tidak berurutan\n",
        "> Unordered berarti bahwa item dalam satu set tidak memiliki urutan yang ditentukan, atau bisa di sebut tidak memiliki index.\n",
        "2. Tidak dapat diubah\n",
        "> Set tidak dapat diubah, artinya kita tidak dapat mengubah item setelah set dibuat.Setelah set dibuat, Anda tidak dapat mengubah itemnya, tetapi Anda dapat menambahkan item baru.\n",
        "3. Duplikat Tidak Diizinkan\n",
        "> Set tidak boleh memiliki dua item dengan nilai yang sama.\n",
        "Jika tetap memaksa Set bernilai sama, maka salah satu tidak akan terbaca.\n",
        "\n"
      ],
      "metadata": {
        "id": "8g9wS8zKDIQv"
      }
    },
    {
      "cell_type": "markdown",
      "source": [
        "## **Membuat Set**\n",
        "Untuk membuat tipe data set, gunakan tanda kurung kurawal, kemudian setiap anggota set dipisah dengan tanda koma."
      ],
      "metadata": {
        "id": "duCw-o9-EREI"
      }
    },
    {
      "cell_type": "code",
      "execution_count": 35,
      "metadata": {
        "id": "rCeBh-y49Y2B"
      },
      "outputs": [],
      "source": [
        "nilai = {10, 20, 30, 40, 50}"
      ]
    },
    {
      "cell_type": "code",
      "source": [
        "print(nilai)"
      ],
      "metadata": {
        "colab": {
          "base_uri": "https://localhost:8080/"
        },
        "id": "OdjLxcAmEfR_",
        "outputId": "49c8dc04-f020-4861-d3a6-1ebf675c0e29"
      },
      "execution_count": 36,
      "outputs": [
        {
          "output_type": "stream",
          "name": "stdout",
          "text": [
            "{50, 20, 40, 10, 30}\n"
          ]
        }
      ]
    },
    {
      "cell_type": "code",
      "source": [
        "print(type(nilai))"
      ],
      "metadata": {
        "colab": {
          "base_uri": "https://localhost:8080/"
        },
        "id": "Oyk_ej3tEc_8",
        "outputId": "5702293e-3814-4ac2-a742-4e35fa4ab961"
      },
      "execution_count": 37,
      "outputs": [
        {
          "output_type": "stream",
          "name": "stdout",
          "text": [
            "<class 'set'>\n"
          ]
        }
      ]
    },
    {
      "cell_type": "code",
      "source": [
        "nilai_2 = {10, 10, 20, 30, 40, 50, 50}"
      ],
      "metadata": {
        "id": "513HijJyEib0"
      },
      "execution_count": 38,
      "outputs": []
    },
    {
      "cell_type": "code",
      "source": [
        "print(nilai_2)"
      ],
      "metadata": {
        "colab": {
          "base_uri": "https://localhost:8080/"
        },
        "id": "LfMXTFrEFlgo",
        "outputId": "69eae153-2284-4203-faf4-d48fdb8e649d"
      },
      "execution_count": 39,
      "outputs": [
        {
          "output_type": "stream",
          "name": "stdout",
          "text": [
            "{50, 20, 40, 10, 30}\n"
          ]
        }
      ]
    },
    {
      "cell_type": "code",
      "source": [
        "print(type(nilai_2))"
      ],
      "metadata": {
        "colab": {
          "base_uri": "https://localhost:8080/"
        },
        "id": "ArO-QfyAFomR",
        "outputId": "b9973879-f665-4c14-f3d1-f93b5fdd1cf0"
      },
      "execution_count": 40,
      "outputs": [
        {
          "output_type": "stream",
          "name": "stdout",
          "text": [
            "<class 'set'>\n"
          ]
        }
      ]
    },
    {
      "cell_type": "markdown",
      "source": [
        "## **Menambah Item**\n",
        " untuk menambah item baru pada set kita bisa menggunakan fungsi add() atau update()."
      ],
      "metadata": {
        "id": "fhbuRO9yFtG_"
      }
    },
    {
      "cell_type": "code",
      "source": [
        "# menambah item satu persatu menggunakan add()\n",
        "nilai.add(100)\n",
        "\n",
        "# Menambahkan item secara sekaligus menggunakan update()\n",
        "nilai_2.update({100, 200})"
      ],
      "metadata": {
        "id": "DD_sixhdFyUC"
      },
      "execution_count": 41,
      "outputs": []
    },
    {
      "cell_type": "code",
      "source": [
        "print(nilai, nilai_2)"
      ],
      "metadata": {
        "colab": {
          "base_uri": "https://localhost:8080/"
        },
        "id": "yyb1zBqkGXNM",
        "outputId": "e0d68d6c-ac83-42da-d729-e0c8d6ae3ad1"
      },
      "execution_count": 42,
      "outputs": [
        {
          "output_type": "stream",
          "name": "stdout",
          "text": [
            "{50, 20, 100, 40, 10, 30} {50, 20, 100, 40, 10, 30, 200}\n"
          ]
        }
      ]
    },
    {
      "cell_type": "markdown",
      "source": [
        "## **Menghapus Item**\n",
        " Untuk menghapus kita bisa menggukan 4 fungsi, tiap fungsi memiliki perbedaan fungsi masing-masing.\n",
        "\n",
        "1. remove(nama_item)\n",
        "> Untuk menghapus item yang dicari. Jika item yang dicari tidak ada, maka akan error.\n",
        "2. discard(nama_item)\n",
        "> Untuk menghapus item yang dicari. Jika item yang dicari tidak ada, tidak akan error.\n",
        "3. pop()\n",
        "> Fungsi ini akan menghapus item yang berada di bagian paling kiri.\n",
        "4. clear()\n",
        "> Menghapus semua item di dalam set.\n",
        "5. del()\n",
        "> Akan menghapus set sepenuhnya, beserta variabel yang membungkus set itu sendiri.\n"
      ],
      "metadata": {
        "id": "XcPGtjTUGcE5"
      }
    },
    {
      "cell_type": "code",
      "source": [
        "# Jika ingin menghapus menggunakan fungsi ini perhatikan item yang akan dihapus\n",
        "nilai.remove(100)"
      ],
      "metadata": {
        "id": "1DoLWxxRGfnX"
      },
      "execution_count": 43,
      "outputs": []
    },
    {
      "cell_type": "code",
      "source": [
        "print(nilai)"
      ],
      "metadata": {
        "colab": {
          "base_uri": "https://localhost:8080/"
        },
        "id": "XFHozw3tG9Oy",
        "outputId": "e715e9c4-ac70-4dff-c450-01c25f0e6cc1"
      },
      "execution_count": 44,
      "outputs": [
        {
          "output_type": "stream",
          "name": "stdout",
          "text": [
            "{50, 20, 40, 10, 30}\n"
          ]
        }
      ]
    },
    {
      "cell_type": "code",
      "source": [
        "#  Jika ingin menghapus menggunakan fungsi ini perhatikan item yang akan dihapus\n",
        "nilai_2.discard(200)"
      ],
      "metadata": {
        "id": "VprCWM5lG-kI"
      },
      "execution_count": 45,
      "outputs": []
    },
    {
      "cell_type": "code",
      "source": [
        "print(nilai_2)"
      ],
      "metadata": {
        "colab": {
          "base_uri": "https://localhost:8080/"
        },
        "id": "SQv6kFmNHBWH",
        "outputId": "b1df67f7-8bcc-41dd-a83d-4141f788b517"
      },
      "execution_count": 46,
      "outputs": [
        {
          "output_type": "stream",
          "name": "stdout",
          "text": [
            "{50, 20, 100, 40, 10, 30}\n"
          ]
        }
      ]
    },
    {
      "cell_type": "code",
      "source": [
        "# fungsi ini akan menghapus item yang berada di bagian paling kiri\n",
        "nilai.pop()"
      ],
      "metadata": {
        "colab": {
          "base_uri": "https://localhost:8080/"
        },
        "id": "OR5uQfHvHAS_",
        "outputId": "809465c6-90d1-4c64-8e73-e47d020243e6"
      },
      "execution_count": 47,
      "outputs": [
        {
          "output_type": "execute_result",
          "data": {
            "text/plain": [
              "50"
            ]
          },
          "metadata": {},
          "execution_count": 47
        }
      ]
    },
    {
      "cell_type": "code",
      "source": [
        "print(nilai)"
      ],
      "metadata": {
        "colab": {
          "base_uri": "https://localhost:8080/"
        },
        "id": "clO0qz_UHEVS",
        "outputId": "e5fc8481-8dc3-4f5e-c787-a2bfcc95e754"
      },
      "execution_count": 48,
      "outputs": [
        {
          "output_type": "stream",
          "name": "stdout",
          "text": [
            "{20, 40, 10, 30}\n"
          ]
        }
      ]
    },
    {
      "cell_type": "code",
      "source": [
        "# hapus semua nilai\n",
        "nilai_2.clear()"
      ],
      "metadata": {
        "id": "FUqZS5C2HD2R"
      },
      "execution_count": 49,
      "outputs": []
    },
    {
      "cell_type": "code",
      "source": [
        "print(nilai_2)"
      ],
      "metadata": {
        "colab": {
          "base_uri": "https://localhost:8080/"
        },
        "id": "RtaRxDMFHGOu",
        "outputId": "c05d3368-efa7-420a-a3fc-0bebb7b28ef2"
      },
      "execution_count": 50,
      "outputs": [
        {
          "output_type": "stream",
          "name": "stdout",
          "text": [
            "set()\n"
          ]
        }
      ]
    },
    {
      "cell_type": "markdown",
      "source": [
        "# **Function pada set**"
      ],
      "metadata": {
        "id": "LyJiCN-FIT_b"
      }
    },
    {
      "cell_type": "code",
      "source": [
        "# Membuat set baru\n",
        "nilai = {10, 11, 13, 14, 16}\n",
        "nilai_2 = {10, 11, 16, 17, 12}"
      ],
      "metadata": {
        "id": "U9tuVrsBIcC3"
      },
      "execution_count": 51,
      "outputs": []
    },
    {
      "cell_type": "code",
      "source": [
        "# Mencari perbedaan antara 2 set\n",
        "print(nilai.difference(nilai_2))"
      ],
      "metadata": {
        "colab": {
          "base_uri": "https://localhost:8080/"
        },
        "id": "oshJxdn9IZhN",
        "outputId": "662eeffd-7d7b-45ca-d4f1-119463820841"
      },
      "execution_count": 52,
      "outputs": [
        {
          "output_type": "stream",
          "name": "stdout",
          "text": [
            "{13, 14}\n"
          ]
        }
      ]
    },
    {
      "cell_type": "code",
      "source": [
        "# Mencari elemen yang tidak ada pada keduanya\n",
        "print(nilai.symmetric_difference(nilai_2))"
      ],
      "metadata": {
        "colab": {
          "base_uri": "https://localhost:8080/"
        },
        "id": "vBoQx6zOIv3S",
        "outputId": "2e258049-3f84-42b8-e7f9-6e4670814f15"
      },
      "execution_count": 53,
      "outputs": [
        {
          "output_type": "stream",
          "name": "stdout",
          "text": [
            "{17, 12, 13, 14}\n"
          ]
        }
      ]
    },
    {
      "cell_type": "code",
      "source": [
        "# Mencari elemen yang sama pada keduanya\n",
        "print(nilai.intersection(nilai_2))"
      ],
      "metadata": {
        "colab": {
          "base_uri": "https://localhost:8080/"
        },
        "id": "t61UMg9KJTtA",
        "outputId": "58dda4b7-3906-47ee-aa0c-f181fb9c8926"
      },
      "execution_count": 54,
      "outputs": [
        {
          "output_type": "stream",
          "name": "stdout",
          "text": [
            "{16, 10, 11}\n"
          ]
        }
      ]
    },
    {
      "cell_type": "markdown",
      "source": [
        "# **End Of Notebook**"
      ],
      "metadata": {
        "id": "-U0PvTIRGuV_"
      }
    }
  ]
}