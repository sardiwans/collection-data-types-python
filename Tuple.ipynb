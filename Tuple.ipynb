{
  "nbformat": 4,
  "nbformat_minor": 0,
  "metadata": {
    "colab": {
      "provenance": [],
      "authorship_tag": "ABX9TyMzyqAte3p8hRUmnsYnyMRa"
    },
    "kernelspec": {
      "name": "python3",
      "display_name": "Python 3"
    },
    "language_info": {
      "name": "python"
    }
  },
  "cells": [
    {
      "cell_type": "markdown",
      "source": [
        "# `TUPLE`\n",
        "> `Tuple` adalah tipe data kolektif pada python yang berguna untuk menyimpan lebih dari satu nilai dalam satu variabel secara sekaligus.\n",
        "\n",
        "> `Tuple` bersifat ordered (terurut) dan juga bersifat unchangable (tidak bisa diubah). Ordered berarti datanya bisa kita akses menggunakan indeks, dan unchangeable berarti datanya tidak akan pernah bisa diubah setelah pertama kali definisikan\n"
      ],
      "metadata": {
        "id": "tXUDAszIoRzb"
      }
    },
    {
      "cell_type": "markdown",
      "source": [
        "## **Membuat Tuple**\n",
        "\n",
        "Tuple dapat dibuat dengan menyimpan nilai dalam variabel dengan tanda kurung `()` dan beberapa cara lain"
      ],
      "metadata": {
        "id": "3-bV5nVjpe7P"
      }
    },
    {
      "cell_type": "code",
      "execution_count": 14,
      "metadata": {
        "id": "hcI-LNEyoQgY"
      },
      "outputs": [],
      "source": [
        "# Membuat Tuple dengan tanda kurung atau cara standard\n",
        "contoh_tuple = (\"Makan\", 1, 15)"
      ]
    },
    {
      "cell_type": "code",
      "source": [
        "print(type(contoh_tuple))"
      ],
      "metadata": {
        "colab": {
          "base_uri": "https://localhost:8080/"
        },
        "id": "bu-k50peq3hb",
        "outputId": "23e53b6e-60f7-4105-c9f7-aae3aa8d02b4"
      },
      "execution_count": 15,
      "outputs": [
        {
          "output_type": "stream",
          "name": "stdout",
          "text": [
            "<class 'tuple'>\n"
          ]
        }
      ]
    },
    {
      "cell_type": "code",
      "source": [
        "# Membuat Tuple dengan tanpa kurung\n",
        "contoh_tuple = \"Makan\", 1, 15"
      ],
      "metadata": {
        "id": "j21XDgkWqSmV"
      },
      "execution_count": 16,
      "outputs": []
    },
    {
      "cell_type": "code",
      "source": [
        "print(type(contoh_tuple))"
      ],
      "metadata": {
        "colab": {
          "base_uri": "https://localhost:8080/"
        },
        "id": "gQN-bHI2q6NK",
        "outputId": "503ecb3a-d4c2-4f21-9730-dde61dcaf40c"
      },
      "execution_count": 17,
      "outputs": [
        {
          "output_type": "stream",
          "name": "stdout",
          "text": [
            "<class 'tuple'>\n"
          ]
        }
      ]
    },
    {
      "cell_type": "code",
      "source": [
        "# Membuat Tuple dengan menggunakan fungsi tuple()\n",
        "contoh_tuple = tuple([\"Makan\", 1, 15]) # Membuat list sebagai isi dari tuple"
      ],
      "metadata": {
        "id": "MUh91ERbqihQ"
      },
      "execution_count": 18,
      "outputs": []
    },
    {
      "cell_type": "code",
      "source": [
        "print(type(contoh_tuple))"
      ],
      "metadata": {
        "colab": {
          "base_uri": "https://localhost:8080/"
        },
        "id": "a5wSfIAKq6r5",
        "outputId": "e8f8d8a6-23e2-4650-81b5-2fc268a69266"
      },
      "execution_count": 19,
      "outputs": [
        {
          "output_type": "stream",
          "name": "stdout",
          "text": [
            "<class 'tuple'>\n"
          ]
        }
      ]
    },
    {
      "cell_type": "code",
      "source": [
        "#  Membuat Tuple Kosong dan Singleton\n",
        "contoh_tuple = ()"
      ],
      "metadata": {
        "id": "xuKQaDxIrDR5"
      },
      "execution_count": 20,
      "outputs": []
    },
    {
      "cell_type": "code",
      "source": [
        "print(type(contoh_tuple))"
      ],
      "metadata": {
        "colab": {
          "base_uri": "https://localhost:8080/"
        },
        "id": "KQXNCBvBrJZ9",
        "outputId": "def88dd4-fb1f-4d16-c9f1-ae643fb34ec4"
      },
      "execution_count": 21,
      "outputs": [
        {
          "output_type": "stream",
          "name": "stdout",
          "text": [
            "<class 'tuple'>\n"
          ]
        }
      ]
    },
    {
      "cell_type": "code",
      "source": [
        "# Membuat Tuple dengan 1 elemen\n",
        "# Untuk mendefinisikan tuple yang hanya berisi satu item, kita tetap diharuskan menulis tanda koma.\n",
        "contoh_tuple = (10,)"
      ],
      "metadata": {
        "id": "pY0m-wyArL45"
      },
      "execution_count": 22,
      "outputs": []
    },
    {
      "cell_type": "code",
      "source": [
        "print(type(contoh_tuple))"
      ],
      "metadata": {
        "colab": {
          "base_uri": "https://localhost:8080/"
        },
        "id": "pi91A0ltrXVM",
        "outputId": "48a03a29-fabd-4049-b011-3614d57a0560"
      },
      "execution_count": 23,
      "outputs": [
        {
          "output_type": "stream",
          "name": "stdout",
          "text": [
            "<class 'tuple'>\n"
          ]
        }
      ]
    },
    {
      "cell_type": "code",
      "source": [
        "# Kalau tidak, maka python akan menggap tanda kurungnya tidak ada, seperti contoh berikut:\n",
        "print(type((10))) # yang ini dianggap integer biasa\n",
        "print(type((\"Makan\"))) # yang ini dianggap String biasa\n",
        "print(type((10,))) # yang ini dianggap tuple\n",
        "print(type((\"Makan\",))) # yang ini dianggap tuple"
      ],
      "metadata": {
        "colab": {
          "base_uri": "https://localhost:8080/"
        },
        "id": "1iVwC8IQrbix",
        "outputId": "1a7d514a-cd39-471a-aa7c-bfda27025c4f"
      },
      "execution_count": 25,
      "outputs": [
        {
          "output_type": "stream",
          "name": "stdout",
          "text": [
            "<class 'int'>\n",
            "<class 'str'>\n",
            "<class 'tuple'>\n",
            "<class 'tuple'>\n"
          ]
        }
      ]
    },
    {
      "cell_type": "code",
      "source": [
        "# Membuat Nested Tuple\n",
        "contoh_tuple = (\"Senin\", \"Selasa\", \"Rabu\", \"Kamis\")\n",
        "contoh_tuple_2 = (\"Jumat\", \"Sabtu\", \"Minggu\")\n",
        "nested_tuple = (contoh_tuple, contoh_tuple_2)"
      ],
      "metadata": {
        "id": "dKD4T3EwsCqD"
      },
      "execution_count": 26,
      "outputs": []
    },
    {
      "cell_type": "code",
      "source": [
        "print(nested_tuple)"
      ],
      "metadata": {
        "colab": {
          "base_uri": "https://localhost:8080/"
        },
        "id": "cJu15xOQscNS",
        "outputId": "0f1c1fbf-be99-4248-e406-13713327bcdf"
      },
      "execution_count": 28,
      "outputs": [
        {
          "output_type": "stream",
          "name": "stdout",
          "text": [
            "(('Senin', 'Selasa', 'Rabu', 'Kamis'), ('Jumat', 'Sabtu', 'Minggu'))\n"
          ]
        }
      ]
    },
    {
      "cell_type": "code",
      "source": [
        "print(type(nested_tuple))"
      ],
      "metadata": {
        "colab": {
          "base_uri": "https://localhost:8080/"
        },
        "id": "Wo0plx2MsXIy",
        "outputId": "70a14a23-f74c-47ef-89aa-fd3bb8d04709"
      },
      "execution_count": 27,
      "outputs": [
        {
          "output_type": "stream",
          "name": "stdout",
          "text": [
            "<class 'tuple'>\n"
          ]
        }
      ]
    },
    {
      "cell_type": "code",
      "source": [
        "# Atau langsung menggunakan tanda kurung () dan koleksi data lain\n",
        "# Tuple juga bisa diisi dengan objek apapun seperti list, dictionary, object, dan lain-lain\n",
        "nested_tuple = ([\"Senin\", \"Selasa\", \"Rabu\", \"Kamis\"], [\"Jumat\", \"Sabtu\", \"Minggu\"])"
      ],
      "metadata": {
        "id": "DpMr38A1shoV"
      },
      "execution_count": 29,
      "outputs": []
    },
    {
      "cell_type": "code",
      "source": [
        "print(nested_tuple)"
      ],
      "metadata": {
        "colab": {
          "base_uri": "https://localhost:8080/"
        },
        "id": "1rtwbBNmtAN0",
        "outputId": "6a72678c-302d-4489-f57b-9f39b97dfde7"
      },
      "execution_count": 30,
      "outputs": [
        {
          "output_type": "stream",
          "name": "stdout",
          "text": [
            "(['Senin', 'Selasa', 'Rabu', 'Kamis'], ['Jumat', 'Sabtu', 'Minggu'])\n"
          ]
        }
      ]
    },
    {
      "cell_type": "code",
      "source": [
        "print(type(nested_tuple))"
      ],
      "metadata": {
        "colab": {
          "base_uri": "https://localhost:8080/"
        },
        "id": "wYzgskIItBWR",
        "outputId": "7f0381d9-8840-480f-99ed-5d20cd67cbd3"
      },
      "execution_count": 31,
      "outputs": [
        {
          "output_type": "stream",
          "name": "stdout",
          "text": [
            "<class 'tuple'>\n"
          ]
        }
      ]
    },
    {
      "cell_type": "code",
      "source": [
        "# Tuple didalam Tuple (Nested Tuple)\n",
        "nested_tuple = ((\"Senin\", \"Selasa\", \"Rabu\", \"Kamis\"), (\"Jumat\", \"Sabtu\", \"Minggu\"))"
      ],
      "metadata": {
        "id": "5Uv60M7itFxD"
      },
      "execution_count": 32,
      "outputs": []
    },
    {
      "cell_type": "code",
      "source": [
        "print(nested_tuple)"
      ],
      "metadata": {
        "colab": {
          "base_uri": "https://localhost:8080/"
        },
        "id": "GZxBHH6atLZM",
        "outputId": "228beb4b-9a1a-4a35-d1c1-aa87a1a2eecb"
      },
      "execution_count": 33,
      "outputs": [
        {
          "output_type": "stream",
          "name": "stdout",
          "text": [
            "(('Senin', 'Selasa', 'Rabu', 'Kamis'), ('Jumat', 'Sabtu', 'Minggu'))\n"
          ]
        }
      ]
    },
    {
      "cell_type": "code",
      "source": [
        "print(type(nested_tuple))"
      ],
      "metadata": {
        "colab": {
          "base_uri": "https://localhost:8080/"
        },
        "id": "_oITwMRQtMGe",
        "outputId": "7e06e5eb-25fc-49e8-fa4f-109b1c486808"
      },
      "execution_count": 34,
      "outputs": [
        {
          "output_type": "stream",
          "name": "stdout",
          "text": [
            "<class 'tuple'>\n"
          ]
        }
      ]
    },
    {
      "cell_type": "markdown",
      "source": [
        "## **Mengakses Nilai Tuple**\n",
        "\n",
        "Sama seperti list, Tuple juga memiliki indeks untuk Mengakses item di dalamnya. Indeks Tuple dan list selalu dimulai dari nol 0."
      ],
      "metadata": {
        "id": "DF9timsKtyqn"
      }
    },
    {
      "cell_type": "code",
      "source": [
        "# Melihat kembali Tuple yang kita miliki\n",
        "print(contoh_tuple)\n",
        "print(contoh_tuple_2)"
      ],
      "metadata": {
        "colab": {
          "base_uri": "https://localhost:8080/"
        },
        "id": "oly9ZWVAt7ev",
        "outputId": "4a704e87-a709-4097-a1ce-e9b042767bd0"
      },
      "execution_count": 36,
      "outputs": [
        {
          "output_type": "stream",
          "name": "stdout",
          "text": [
            "('Senin', 'Selasa', 'Rabu', 'Kamis')\n",
            "('Jumat', 'Sabtu', 'Minggu')\n"
          ]
        }
      ]
    },
    {
      "cell_type": "code",
      "source": [
        "# Mengakses elemen pada contoh_tuple dan contoh_tuple_2 pada indeks 1 atau urutan kedua\n",
        "print(contoh_tuple[1])\n",
        "print(contoh_tuple_2[1])"
      ],
      "metadata": {
        "colab": {
          "base_uri": "https://localhost:8080/"
        },
        "id": "ba2CuEzIuIYG",
        "outputId": "42578efb-98ea-4bbc-ca6a-cbee32c6ae26"
      },
      "execution_count": 38,
      "outputs": [
        {
          "output_type": "stream",
          "name": "stdout",
          "text": [
            "Selasa\n",
            "Sabtu\n"
          ]
        }
      ]
    },
    {
      "cell_type": "code",
      "source": [
        "# Mengakses beberapa elemen pada contoh_tuple dan contoh_tuple_2 (Slicing)\n",
        "print(contoh_tuple[1:3]) # Mengakses tuple dari indeks 1 sampai indeks 3\n",
        "print(contoh_tuple[1:]) # Mengakses tuple dari indeks 1 sampai indeks terakhir\n",
        "print(contoh_tuple_2[:2]) # Mengakses tuple dari indeks 0 sampai indeks 2\n",
        "print(contoh_tuple_2[-1]) # Mengakses tuple indeks terakhir"
      ],
      "metadata": {
        "colab": {
          "base_uri": "https://localhost:8080/"
        },
        "id": "16_57gxSuc0A",
        "outputId": "ca7276c3-f92f-4c57-a9fa-5b3ae58d1936"
      },
      "execution_count": 39,
      "outputs": [
        {
          "output_type": "stream",
          "name": "stdout",
          "text": [
            "('Selasa', 'Rabu')\n",
            "('Selasa', 'Rabu', 'Kamis')\n",
            "('Jumat', 'Sabtu')\n",
            "Minggu\n"
          ]
        }
      ]
    },
    {
      "cell_type": "markdown",
      "source": [
        "## **Sequence Unpacking**\n",
        "\n",
        "> Proses pembuatan Tuple bisa kita sebut sebagai packing, sementara untuk mengambil (ekstrak) seluruh isinya disebut unpacking."
      ],
      "metadata": {
        "id": "AXm7Q1nfvOOa"
      }
    },
    {
      "cell_type": "code",
      "source": [
        "# Membuat tuple atau packing\n",
        "kalimat = (\"Saya\", \"Sedang\", \"Makan\")"
      ],
      "metadata": {
        "id": "LdfFVteGvNo9"
      },
      "execution_count": 42,
      "outputs": []
    },
    {
      "cell_type": "code",
      "source": [
        "print(kalimat)"
      ],
      "metadata": {
        "colab": {
          "base_uri": "https://localhost:8080/"
        },
        "id": "k2qR0QLbuZQm",
        "outputId": "73403f66-4d63-49c5-c094-260e6dde14b2"
      },
      "execution_count": 43,
      "outputs": [
        {
          "output_type": "stream",
          "name": "stdout",
          "text": [
            "('Saya', 'Sedang', 'Makan')\n"
          ]
        }
      ]
    },
    {
      "cell_type": "code",
      "source": [
        "# lalu di-unpacking\n",
        "kata_1, kata_2, kata_3 = kalimat"
      ],
      "metadata": {
        "id": "Nw97xTBNwCW9"
      },
      "execution_count": 44,
      "outputs": []
    },
    {
      "cell_type": "code",
      "source": [
        "print(kata_1)\n",
        "print(kata_2)\n",
        "print(kata_3)"
      ],
      "metadata": {
        "colab": {
          "base_uri": "https://localhost:8080/"
        },
        "id": "egs7xumAwcS2",
        "outputId": "e01dceaa-8c73-43af-c96c-07edbb5e80da"
      },
      "execution_count": 45,
      "outputs": [
        {
          "output_type": "stream",
          "name": "stdout",
          "text": [
            "Saya\n",
            "Sedang\n",
            "Makan\n"
          ]
        }
      ]
    },
    {
      "cell_type": "code",
      "source": [
        "# Membuat nested tuple atau packing\n",
        "nama_hari = ((\"Senin\", \"Selasa\", \"Rabu\", \"Kamis\", \"Jumat\"), (\"Sabtu\", \"Minggu\"))"
      ],
      "metadata": {
        "id": "Mc92_x8rwgKw"
      },
      "execution_count": 46,
      "outputs": []
    },
    {
      "cell_type": "code",
      "source": [
        "print(nama_hari)"
      ],
      "metadata": {
        "colab": {
          "base_uri": "https://localhost:8080/"
        },
        "id": "afT0_mRcwwvq",
        "outputId": "6d93b951-fdaf-4d8a-9f8f-ba15a3ae984b"
      },
      "execution_count": 47,
      "outputs": [
        {
          "output_type": "stream",
          "name": "stdout",
          "text": [
            "(('Senin', 'Selasa', 'Rabu', 'Kamis', 'Jumat'), ('Sabtu', 'Minggu'))\n"
          ]
        }
      ]
    },
    {
      "cell_type": "code",
      "source": [
        "# lalu di-unpacking\n",
        "hari_kerja, hari_libur= nama_hari"
      ],
      "metadata": {
        "id": "gvDHwG8Nwig_"
      },
      "execution_count": 48,
      "outputs": []
    },
    {
      "cell_type": "code",
      "source": [
        "print(hari_kerja)\n",
        "print(hari_libur)"
      ],
      "metadata": {
        "colab": {
          "base_uri": "https://localhost:8080/"
        },
        "id": "QBBd8tCaw5Wm",
        "outputId": "1fdbb64e-f062-4ab9-f593-7c0d6acbb3f5"
      },
      "execution_count": 49,
      "outputs": [
        {
          "output_type": "stream",
          "name": "stdout",
          "text": [
            "('Senin', 'Selasa', 'Rabu', 'Kamis', 'Jumat')\n",
            "('Sabtu', 'Minggu')\n"
          ]
        }
      ]
    },
    {
      "cell_type": "markdown",
      "source": [
        "## **Function Pada Tuple**\n",
        "|Nama|Keterangan|\n",
        "|-|-|\n",
        "|`len()` | Menghitung jumlah item pada tuple|\n",
        "|`max()` | Mencari nilai paling besar dari sebuah tuple|\n",
        "|`min()` |Mencari nilai paling kecil dari sebuah tuple |\n",
        "\n"
      ],
      "metadata": {
        "id": "-qVav8SuxBul"
      }
    },
    {
      "cell_type": "code",
      "source": [
        "nilai_semester_1 = (80, 90, 100, 88, 60)"
      ],
      "metadata": {
        "id": "NYPcksBkxLuS"
      },
      "execution_count": 50,
      "outputs": []
    },
    {
      "cell_type": "code",
      "source": [
        "max(nilai_semester_1)"
      ],
      "metadata": {
        "colab": {
          "base_uri": "https://localhost:8080/"
        },
        "id": "twO2byhvyETC",
        "outputId": "89fa08f2-01bd-467c-ae4f-00db46112018"
      },
      "execution_count": 51,
      "outputs": [
        {
          "output_type": "execute_result",
          "data": {
            "text/plain": [
              "100"
            ]
          },
          "metadata": {},
          "execution_count": 51
        }
      ]
    },
    {
      "cell_type": "code",
      "source": [
        "min(nilai_semester_1)"
      ],
      "metadata": {
        "colab": {
          "base_uri": "https://localhost:8080/"
        },
        "id": "aQChAXMMyGwx",
        "outputId": "68346c60-921e-4d80-b2a5-01fd4712e142"
      },
      "execution_count": 52,
      "outputs": [
        {
          "output_type": "execute_result",
          "data": {
            "text/plain": [
              "60"
            ]
          },
          "metadata": {},
          "execution_count": 52
        }
      ]
    },
    {
      "cell_type": "code",
      "source": [
        "len(nilai_semester_1)"
      ],
      "metadata": {
        "colab": {
          "base_uri": "https://localhost:8080/"
        },
        "id": "TIxsxKjVyHyl",
        "outputId": "6b953f77-e06d-4289-ea62-af97acc2d8b4"
      },
      "execution_count": 53,
      "outputs": [
        {
          "output_type": "execute_result",
          "data": {
            "text/plain": [
              "5"
            ]
          },
          "metadata": {},
          "execution_count": 53
        }
      ]
    },
    {
      "cell_type": "markdown",
      "source": [
        "# **END OF NOTEBOOK**"
      ],
      "metadata": {
        "id": "BkTbscoVv68G"
      }
    }
  ]
}