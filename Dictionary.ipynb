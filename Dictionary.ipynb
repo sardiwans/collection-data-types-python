{
  "nbformat": 4,
  "nbformat_minor": 0,
  "metadata": {
    "colab": {
      "provenance": [],
      "authorship_tag": "ABX9TyO2ixhSymbpWf1U/NKv2Qoq"
    },
    "kernelspec": {
      "name": "python3",
      "display_name": "Python 3"
    },
    "language_info": {
      "name": "python"
    }
  },
  "cells": [
    {
      "cell_type": "markdown",
      "source": [
        "# `Dictionary`\n",
        "> `Dictionary` Python berbeda dengan List ataupun Tuple. Karena setiap urutanya berisi key dan value. Setiap key dipisahkan dari value-nya oleh titik dua (:), item dipisahkan oleh koma, dan semuanya tertutup dalam kurung kurawal. Dictionary kosong tanpa barang ditulis hanya dengan dua kurung kurawal, seperti ini: {}.\n",
        "\n",
        "Nilai kamus bisa berupa tipe apa pun, namun key harus berupa tipe data yang tidak berubah seperti string, angka, atau tupel.\n"
      ],
      "metadata": {
        "id": "DyE0-h410R72"
      }
    },
    {
      "cell_type": "markdown",
      "source": [
        "## **Membuat Dictionary**\n",
        "\n",
        "Tuple dapat dibuat dengan menyimpan nilai dalam variabel dengan tanda kurung `{}` dan membuat key dan value"
      ],
      "metadata": {
        "id": "rv6eyywl01p3"
      }
    },
    {
      "cell_type": "code",
      "execution_count": null,
      "metadata": {
        "id": "O9bzgVeI0OtY"
      },
      "outputs": [],
      "source": [
        "# Membuat Dictionary\n",
        "costumer = {\n",
        "    \"nama\" : \"Sardiwan Simamora\",\n",
        "    \"umur\" : 22\n",
        "}"
      ]
    },
    {
      "cell_type": "code",
      "source": [
        "print(costumer)"
      ],
      "metadata": {
        "colab": {
          "base_uri": "https://localhost:8080/"
        },
        "id": "hJM-mwo61ROF",
        "outputId": "f7790be6-5b05-41fd-fbdc-6cce77c813e6"
      },
      "execution_count": null,
      "outputs": [
        {
          "output_type": "stream",
          "name": "stdout",
          "text": [
            "{'nama': 'Sardiwan Simamora', 'umur': 22}\n"
          ]
        }
      ]
    },
    {
      "cell_type": "markdown",
      "source": [
        "## **Akses Nilai Dalam Dictionary Python**"
      ],
      "metadata": {
        "id": "Ya4IIEPD1hkj"
      }
    },
    {
      "cell_type": "code",
      "source": [
        "# Menampilkan seluruh nilai pada dictionary\n",
        "print(costumer)"
      ],
      "metadata": {
        "colab": {
          "base_uri": "https://localhost:8080/"
        },
        "id": "96zp9Bxu1lqC",
        "outputId": "df245ba0-dad4-44ba-faf1-6319172a449c"
      },
      "execution_count": null,
      "outputs": [
        {
          "output_type": "stream",
          "name": "stdout",
          "text": [
            "{'nama': 'Sardiwan Simamora', 'umur': 22}\n"
          ]
        }
      ]
    },
    {
      "cell_type": "code",
      "source": [
        "# Menampilkan salah satu nilai pada dictionary\n",
        "print(costumer[\"nama\"]) # Kita menggunakan key untuk mengakses bukan index"
      ],
      "metadata": {
        "colab": {
          "base_uri": "https://localhost:8080/"
        },
        "id": "sJHRyMwc1rfy",
        "outputId": "c15580ba-ddef-4f4a-fb00-733417c9b7d3"
      },
      "execution_count": null,
      "outputs": [
        {
          "output_type": "stream",
          "name": "stdout",
          "text": [
            "Sardiwan Simamora\n"
          ]
        }
      ]
    },
    {
      "cell_type": "markdown",
      "source": [
        "## **Update Nilai Dalam Dictionary**"
      ],
      "metadata": {
        "id": "02SVw0fQ16vA"
      }
    },
    {
      "cell_type": "code",
      "source": [
        "# Update nilai pada dictionary\n",
        "costumer['umur'] = 23; # Mengubah entri yang sudah ada\n",
        "costumer['universitas'] = \"Universitas Sumatera Utara\" # Menambah entri baru"
      ],
      "metadata": {
        "id": "HVZxtRY512Ji"
      },
      "execution_count": null,
      "outputs": []
    },
    {
      "cell_type": "code",
      "source": [
        "print(costumer)"
      ],
      "metadata": {
        "colab": {
          "base_uri": "https://localhost:8080/"
        },
        "id": "Muxdmpja2O71",
        "outputId": "32303c19-d87d-4e92-8d43-04a7806f8b62"
      },
      "execution_count": null,
      "outputs": [
        {
          "output_type": "stream",
          "name": "stdout",
          "text": [
            "{'nama': 'Sardiwan Simamora', 'umur': 23, 'universitas': 'Universitas Sumatera Utara'}\n"
          ]
        }
      ]
    },
    {
      "cell_type": "code",
      "source": [
        "print(costumer[\"umur\"])"
      ],
      "metadata": {
        "colab": {
          "base_uri": "https://localhost:8080/"
        },
        "id": "0r_5xfGD2UP1",
        "outputId": "201fe338-6214-4c84-9bbd-1e5cdfd4513f"
      },
      "execution_count": null,
      "outputs": [
        {
          "output_type": "stream",
          "name": "stdout",
          "text": [
            "23\n"
          ]
        }
      ]
    },
    {
      "cell_type": "code",
      "source": [
        "print(costumer[\"universitas\"])"
      ],
      "metadata": {
        "colab": {
          "base_uri": "https://localhost:8080/"
        },
        "id": "ZG6-Mr0i2Xve",
        "outputId": "336a2df8-a20f-4a94-ff77-9c671bf6701c"
      },
      "execution_count": null,
      "outputs": [
        {
          "output_type": "stream",
          "name": "stdout",
          "text": [
            "Universitas Sumatera Utara\n"
          ]
        }
      ]
    },
    {
      "cell_type": "markdown",
      "source": [
        "## **Hapus Elemen Dictionary Python**"
      ],
      "metadata": {
        "id": "1ZWHf8rK2a2C"
      }
    },
    {
      "cell_type": "code",
      "source": [
        "# Contoh cara menghapus pada Dictionary Python\n",
        "del costumer['universitas'] # hapus entri dengan key 'universitas'"
      ],
      "metadata": {
        "id": "x2NHwNF92phe"
      },
      "execution_count": null,
      "outputs": []
    },
    {
      "cell_type": "code",
      "source": [
        "print(costumer)"
      ],
      "metadata": {
        "colab": {
          "base_uri": "https://localhost:8080/"
        },
        "id": "4uYmrQPx2zFf",
        "outputId": "02033e7f-e02b-44a1-cb5e-9ebb4777bc66"
      },
      "execution_count": null,
      "outputs": [
        {
          "output_type": "stream",
          "name": "stdout",
          "text": [
            "{'nama': 'Sardiwan Simamora', 'umur': 23}\n"
          ]
        }
      ]
    },
    {
      "cell_type": "code",
      "source": [
        "costumer.clear() # hapus semua entri di dict"
      ],
      "metadata": {
        "id": "9rFX7qos2usV"
      },
      "execution_count": null,
      "outputs": []
    },
    {
      "cell_type": "code",
      "source": [
        "print(costumer)"
      ],
      "metadata": {
        "colab": {
          "base_uri": "https://localhost:8080/"
        },
        "id": "4wEL1YyW27k4",
        "outputId": "0bd12d56-aec3-49dc-b5ce-71dded9f7749"
      },
      "execution_count": null,
      "outputs": [
        {
          "output_type": "stream",
          "name": "stdout",
          "text": [
            "{}\n"
          ]
        }
      ]
    },
    {
      "cell_type": "code",
      "source": [
        "del costumer # hapus dictionary yang sudah ada"
      ],
      "metadata": {
        "id": "rjQUjRmA2vtB"
      },
      "execution_count": null,
      "outputs": []
    },
    {
      "cell_type": "code",
      "source": [
        "# print(costumer) -- Akan error karena tidak ada lagi dictionary dengan nama costumer"
      ],
      "metadata": {
        "id": "nZMiAHcV2_ON"
      },
      "execution_count": null,
      "outputs": []
    },
    {
      "cell_type": "markdown",
      "source": [
        "## **Fungsi Build-in Pada Dictionary Python**"
      ],
      "metadata": {
        "id": "AlL2dpXW3IPo"
      }
    },
    {
      "cell_type": "markdown",
      "source": [
        "| Fungsi Python | Penjelasan|\n",
        "|-|-|\n",
        "|len(dict1, dict2) | Memberikan panjang total Dictionary. Ini sama dengan jumlah item dalam Dictionary. |\n",
        "|str(dict) | Menghasilkan representasi string yang dapat dicetak dari Dictionary |\n",
        "| type(variable)| Mengembalikan tipe variabel yang lulus.\n",
        "| |Jika variabel yang dilewatkan adalah Dictionary, maka akan mengembalikan tipe Dictionary. |"
      ],
      "metadata": {
        "id": "_RvrPOaJ3LxT"
      }
    },
    {
      "cell_type": "code",
      "source": [
        "# Membuat Dictionary\n",
        "costumer = {\n",
        "    \"nama\" : \"Sardiwan Simamora\",\n",
        "    \"umur\" : 22\n",
        "}\n",
        "\n",
        "costumer_2 = {\n",
        "    \"nama\" : \"Sardiwan Putra Simamora\",\n",
        "    \"umur\" : 23,\n",
        "    \"universitas\" : \"Sumatera Utara\"\n",
        "}"
      ],
      "metadata": {
        "id": "14Ab3pFW3Qjj"
      },
      "execution_count": null,
      "outputs": []
    },
    {
      "cell_type": "code",
      "source": [
        "print(costumer, costumer_2)"
      ],
      "metadata": {
        "colab": {
          "base_uri": "https://localhost:8080/"
        },
        "id": "XkX7m_mR3_Dm",
        "outputId": "8c3b150e-44ff-45c0-bc8e-cc3dcd44f8b7"
      },
      "execution_count": null,
      "outputs": [
        {
          "output_type": "stream",
          "name": "stdout",
          "text": [
            "{'nama': 'Sardiwan Simamora', 'umur': 22} {'nama': 'Sardiwan Putra Simamora', 'umur': 23, 'universitas': 'Sumatera Utara'}\n"
          ]
        }
      ]
    },
    {
      "cell_type": "code",
      "source": [
        "# Melihat panjang elemen pada dictionary\n",
        "print(len(costumer))"
      ],
      "metadata": {
        "colab": {
          "base_uri": "https://localhost:8080/"
        },
        "id": "tb4NsJLX4Mh5",
        "outputId": "7abde570-2337-4880-a3a5-67626183e045"
      },
      "execution_count": null,
      "outputs": [
        {
          "output_type": "stream",
          "name": "stdout",
          "text": [
            "2\n"
          ]
        }
      ]
    },
    {
      "cell_type": "code",
      "source": [
        "# Mengubah dictionary menjadi bentuk string\n",
        "print(str(costumer_2))"
      ],
      "metadata": {
        "colab": {
          "base_uri": "https://localhost:8080/"
        },
        "id": "1xphmZUV4_hS",
        "outputId": "ab3a1e50-81a2-4533-ec17-75330eb98846"
      },
      "execution_count": null,
      "outputs": [
        {
          "output_type": "stream",
          "name": "stdout",
          "text": [
            "{'nama': 'Sardiwan Putra Simamora', 'umur': 23, 'universitas': 'Sumatera Utara'}\n"
          ]
        }
      ]
    },
    {
      "cell_type": "code",
      "source": [
        "# Melihat tipe data\n",
        "print(type(costumer))\n",
        "print(type(costumer_2))\n",
        "print(type(str(costumer)))"
      ],
      "metadata": {
        "colab": {
          "base_uri": "https://localhost:8080/"
        },
        "id": "XnahRfbF5Ugd",
        "outputId": "554cb271-cc5f-4213-b7c4-ca47e502a2a7"
      },
      "execution_count": null,
      "outputs": [
        {
          "output_type": "stream",
          "name": "stdout",
          "text": [
            "<class 'dict'>\n",
            "<class 'dict'>\n",
            "<class 'str'>\n"
          ]
        }
      ]
    },
    {
      "cell_type": "markdown",
      "source": [
        "## **Method Build-in Pada Dictionary Python**\n",
        "| | |\n",
        "|-|-|\n",
        "|dict.clear() |Menghapus semua elemen Dictionary |\n",
        "|dict.copy() |Mengembalikan salinan Dictionary |\n",
        "|dict.fromkeys() |Buat Dictionary baru dengan kunci dari seq dan nilai yang disetel ke nilai. |\n",
        "|dict.get(key, default=None) |For key, nilai pengembalian atau default jika tombol tidak ada dalam Dictionary |\n",
        "|dict.items() |Mengembalikan daftar dari pasangan tuple dictionary (key, value) |\n",
        "|dict.keys() |Mengembalikan daftar key dictionary |\n",
        "|dict.setdefault(key, default=None) | Mirip dengan get (), tapi akan mengatur dict [key] = default jika kunci belum ada di dict |\n",
        "|dict.update(dict2) |Menambahkan pasangan kunci kata kunci dict2 ke dict |\n",
        "|dict.values() | Mengembalikan daftar nilai dictionary |"
      ],
      "metadata": {
        "id": "57-iHQwR52rW"
      }
    },
    {
      "cell_type": "code",
      "source": [
        "# Melihat daftar dictionary yang kita miliki\n",
        "print(costumer, costumer_2)"
      ],
      "metadata": {
        "colab": {
          "base_uri": "https://localhost:8080/"
        },
        "id": "o8PV9ILP54ol",
        "outputId": "72b9e987-b571-4182-dbfd-56cb052c0f98"
      },
      "execution_count": null,
      "outputs": [
        {
          "output_type": "stream",
          "name": "stdout",
          "text": [
            "{'nama': 'Sardiwan Simamora', 'umur': 22} {'nama': 'Sardiwan Putra Simamora', 'umur': 23, 'universitas': 'Sumatera Utara'}\n"
          ]
        }
      ]
    },
    {
      "cell_type": "code",
      "source": [
        "# Menghapus semua elemen pada Dictionary\n",
        "costumer.clear()"
      ],
      "metadata": {
        "id": "INaDOO_L6uZD"
      },
      "execution_count": null,
      "outputs": []
    },
    {
      "cell_type": "code",
      "source": [
        "print(costumer)"
      ],
      "metadata": {
        "colab": {
          "base_uri": "https://localhost:8080/"
        },
        "id": "H5QBMzOt66XW",
        "outputId": "4309eebc-e72a-4a25-ec20-b87b8b282d45"
      },
      "execution_count": null,
      "outputs": [
        {
          "output_type": "stream",
          "name": "stdout",
          "text": [
            "{}\n"
          ]
        }
      ]
    },
    {
      "cell_type": "code",
      "source": [
        "# Copy nilai pada Dictionary lain\n",
        "costumer = costumer_2.copy()"
      ],
      "metadata": {
        "id": "I6ANtSx0678d"
      },
      "execution_count": null,
      "outputs": []
    },
    {
      "cell_type": "code",
      "source": [
        "print(costumer)"
      ],
      "metadata": {
        "colab": {
          "base_uri": "https://localhost:8080/"
        },
        "id": "mdo2Kujy7EyM",
        "outputId": "a63dadcd-1216-483b-a1d8-2ae28a7c14a9"
      },
      "execution_count": null,
      "outputs": [
        {
          "output_type": "stream",
          "name": "stdout",
          "text": [
            "{'nama': 'Sardiwan Putra Simamora', 'umur': 23, 'universitas': 'Sumatera Utara'}\n"
          ]
        }
      ]
    },
    {
      "cell_type": "code",
      "source": [
        "\"\"\"\n",
        "Fungsi ini digunakan untuk membuat sebuah kamus (dictionary) baru\n",
        "dengan kunci-kunci (keys) yang ditentukan dan nilai-nilai (values) yang sama untuk semua kunci.\n",
        "\"\"\"\n",
        "keys = ['a', 'b', 'c']\n",
        "default_value = 0\n",
        "my_dict = dict.fromkeys(keys, default_value)\n",
        "print(my_dict)  # Output: {'a': 0, 'b': 0, 'c': 0}"
      ],
      "metadata": {
        "colab": {
          "base_uri": "https://localhost:8080/"
        },
        "id": "31xxcp9f7H9A",
        "outputId": "4dc4f45d-5bcf-4386-d2e2-c09c493ee4cb"
      },
      "execution_count": null,
      "outputs": [
        {
          "output_type": "stream",
          "name": "stdout",
          "text": [
            "{'a': 0, 'b': 0, 'c': 0}\n"
          ]
        }
      ]
    },
    {
      "cell_type": "code",
      "source": [
        "\"\"\"\n",
        "dict.get(key, default=None): Fungsi ini digunakan untuk mengambil nilai dari kamus dengan kunci tertentu. Jika kunci tidak ada dalam kamus,\n",
        "maka fungsi ini akan mengembalikan nilai default yang Anda tentukan (secara default, None). Contoh:\n",
        "\"\"\"\n",
        "my_dict = {'a': 1, 'b': 2, 'c': 3}\n",
        "value = my_dict.get('b', 0)\n",
        "print(value)  # Output: 2"
      ],
      "metadata": {
        "colab": {
          "base_uri": "https://localhost:8080/"
        },
        "id": "Ky-61CLD70Z0",
        "outputId": "969998a9-d6dd-404c-c5e6-65a6cc126b0d"
      },
      "execution_count": null,
      "outputs": [
        {
          "output_type": "stream",
          "name": "stdout",
          "text": [
            "2\n"
          ]
        }
      ]
    },
    {
      "cell_type": "code",
      "source": [
        "\"\"\"\n",
        "dict.items(): Fungsi ini mengembalikan daftar pasangan kunci-nilai (key-value pairs) dalam kamus sebagai objek tampilan (view object).\n",
        "Anda bisa mengonversinya ke daftar jika perlu.\n",
        "\"\"\"\n",
        "my_dict = {'a': 1, 'b': 2, 'c': 3}\n",
        "items = my_dict.items()\n",
        "print(list(items))  # Output: [('a', 1), ('b', 2), ('c', 3)]"
      ],
      "metadata": {
        "colab": {
          "base_uri": "https://localhost:8080/"
        },
        "id": "3b3BxaNf8ING",
        "outputId": "79034613-9eab-4b49-9fca-5e481162c415"
      },
      "execution_count": null,
      "outputs": [
        {
          "output_type": "stream",
          "name": "stdout",
          "text": [
            "[('a', 1), ('b', 2), ('c', 3)]\n"
          ]
        }
      ]
    },
    {
      "cell_type": "code",
      "source": [
        "\"\"\"\n",
        "dict.keys(): Fungsi ini mengembalikan daftar kunci dalam kamus sebagai objek tampilan.\n",
        "Anda bisa mengonversinya ke daftar jika perlu. Contoh:\n",
        "\"\"\"\n",
        "keys = my_dict.keys()\n",
        "print(list(keys))  # Output: ['a', 'b', 'c']"
      ],
      "metadata": {
        "colab": {
          "base_uri": "https://localhost:8080/"
        },
        "id": "xKVXHcR28VDX",
        "outputId": "65599ecb-3c3f-4ec9-be32-6bf3f9ccd470"
      },
      "execution_count": null,
      "outputs": [
        {
          "output_type": "stream",
          "name": "stdout",
          "text": [
            "['a', 'b', 'c']\n"
          ]
        }
      ]
    },
    {
      "cell_type": "code",
      "source": [
        "\"\"\"\n",
        "dict.setdefault(key, default=None): Fungsi ini mengembalikan nilai dari kunci yang ditentukan jika kunci ada dalam kamus.\n",
        "Jika kunci tidak ada, maka fungsi ini akan menambahkan kunci tersebut dengan nilai default yang Anda tentukan (secara default, None)\n",
        "dan mengembalikan nilai tersebut.\n",
        "\"\"\"\n",
        "my_dict = {'a': 1, 'b': 2}\n",
        "value = my_dict.setdefault('c', 0)\n",
        "print(my_dict)  # Output: {'a': 1, 'b': 2, 'c': 0}\n",
        "print(value)    # Output: 0"
      ],
      "metadata": {
        "colab": {
          "base_uri": "https://localhost:8080/"
        },
        "id": "GGpJroO38e1m",
        "outputId": "9697d228-401e-4e3c-f004-de149dae1bfb"
      },
      "execution_count": null,
      "outputs": [
        {
          "output_type": "stream",
          "name": "stdout",
          "text": [
            "{'a': 1, 'b': 2, 'c': 0}\n",
            "0\n"
          ]
        }
      ]
    },
    {
      "cell_type": "code",
      "source": [
        "\"\"\"\n",
        "dict.update(dict2): Fungsi ini digunakan untuk memperbarui kamus dengan kunci dan nilai dari kamus lain (dict2).\n",
        "Jika ada kunci yang sama dalam kamus asal, nilai akan diperbarui.\n",
        "\"\"\"\n",
        "my_dict = {'a': 1, 'b': 2}\n",
        "update_dict = {'b': 3, 'c': 4}\n",
        "my_dict.update(update_dict)\n",
        "print(my_dict)  # Output: {'a': 1, 'b': 3, 'c': 4}"
      ],
      "metadata": {
        "colab": {
          "base_uri": "https://localhost:8080/"
        },
        "id": "XXLGtZ818sjJ",
        "outputId": "894e5a30-e6a9-428b-da06-df6c59e62bc1"
      },
      "execution_count": null,
      "outputs": [
        {
          "output_type": "stream",
          "name": "stdout",
          "text": [
            "{'a': 1, 'b': 3, 'c': 4}\n"
          ]
        }
      ]
    },
    {
      "cell_type": "code",
      "source": [
        "\"\"\"\n",
        "dict.values(): Fungsi ini mengembalikan daftar nilai dalam kamus sebagai objek tampilan. Anda bisa mengonversinya ke list jika perlu\n",
        "\"\"\"\n",
        "my_dict = {'a': 1, 'b': 2, 'c': 3}\n",
        "values = my_dict.values()\n",
        "print(list(values))  # Output: [1, 2, 3]"
      ],
      "metadata": {
        "colab": {
          "base_uri": "https://localhost:8080/"
        },
        "id": "UnNzWhMh8yD5",
        "outputId": "71a08626-ec1d-4385-a97a-0ed0241d9d38"
      },
      "execution_count": null,
      "outputs": [
        {
          "output_type": "stream",
          "name": "stdout",
          "text": [
            "[1, 2, 3]\n"
          ]
        }
      ]
    },
    {
      "cell_type": "markdown",
      "source": [
        "# **END OF NOTEBOOK**"
      ],
      "metadata": {
        "id": "y-ROmHwz5zOj"
      }
    }
  ]
}